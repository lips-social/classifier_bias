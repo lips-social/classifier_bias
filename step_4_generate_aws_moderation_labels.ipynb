{
 "cells": [
  {
   "cell_type": "code",
   "execution_count": 1,
   "metadata": {},
   "outputs": [],
   "source": [
    "import boto3\n",
    "import logging\n",
    "import requests\n",
    "import pprint\n",
    "import logging\n",
    "from rekognition_image_detection import RekognitionImage\n",
    "from rekognition_objects import show_bounding_boxes, show_polygons"
   ]
  },
  {
   "cell_type": "markdown",
   "metadata": {},
   "source": [
    "# generate aws moderation labels to test set"
   ]
  },
  {
   "cell_type": "code",
   "execution_count": null,
   "metadata": {},
   "outputs": [
    {
     "name": "stderr",
     "output_type": "stream",
     "text": [
      "INFO: Detecting suggestive content in resized/.DS_Store...\n",
      "ERROR: Couldn't detect moderation labels in resized/.DS_Store. error: An error occurred (InvalidImageFormatException) when calling the DetectModerationLabels operation: Request has invalid image format\n",
      "Traceback (most recent call last):\n",
      "  File \"/Users/duncan/reliabl/labeling-demo/rekognition_image_detection.py\", line 187, in detect_moderation_labels\n",
      "    response = self.rekognition_client.detect_moderation_labels(\n",
      "               ^^^^^^^^^^^^^^^^^^^^^^^^^^^^^^^^^^^^^^^^^^^^^^^^^\n",
      "  File \"/Users/duncan/reliabl/labeling-demo/.venv/lib/python3.11/site-packages/botocore/client.py\", line 569, in _api_call\n",
      "    return self._make_api_call(operation_name, kwargs)\n",
      "           ^^^^^^^^^^^^^^^^^^^^^^^^^^^^^^^^^^^^^^^^^^^\n",
      "  File \"/Users/duncan/reliabl/labeling-demo/.venv/lib/python3.11/site-packages/botocore/client.py\", line 1023, in _make_api_call\n",
      "    raise error_class(parsed_response, operation_name)\n",
      "botocore.errorfactory.InvalidImageFormatException: An error occurred (InvalidImageFormatException) when calling the DetectModerationLabels operation: Request has invalid image format\n",
      "INFO: error for image resized/.DS_Store: An error occurred (InvalidImageFormatException) when calling the DetectModerationLabels operation: Request has invalid image format\n",
      "INFO: Detecting suggestive content in resized/BreastExam/dreamstimemaximum_103407046.jpg...\n",
      "INFO: Found 3 moderation labels in resized/BreastExam/dreamstimemaximum_103407046.jpg.\n",
      "INFO: Detecting suggestive content in resized/BreastExam/dreamstimemaximum_103761283.jpg...\n"
     ]
    },
    {
     "name": "stdout",
     "output_type": "stream",
     "text": [
      "Found 3 moderation labels.\n"
     ]
    },
    {
     "name": "stderr",
     "output_type": "stream",
     "text": [
      "INFO: Found 2 moderation labels in resized/BreastExam/dreamstimemaximum_103761283.jpg.\n",
      "INFO: Detecting suggestive content in resized/BreastExam/dreamstimemaximum_118626718.jpg...\n"
     ]
    },
    {
     "name": "stdout",
     "output_type": "stream",
     "text": [
      "Found 2 moderation labels.\n"
     ]
    },
    {
     "name": "stderr",
     "output_type": "stream",
     "text": [
      "INFO: Found 3 moderation labels in resized/BreastExam/dreamstimemaximum_118626718.jpg.\n",
      "INFO: Detecting suggestive content in resized/BreastExam/dreamstimemaximum_133939417.jpg...\n"
     ]
    },
    {
     "name": "stdout",
     "output_type": "stream",
     "text": [
      "Found 3 moderation labels.\n"
     ]
    },
    {
     "name": "stderr",
     "output_type": "stream",
     "text": [
      "INFO: Found 0 moderation labels in resized/BreastExam/dreamstimemaximum_133939417.jpg.\n",
      "INFO: Detecting suggestive content in resized/BreastExam/dreamstimemaximum_133939422.jpg...\n"
     ]
    },
    {
     "name": "stdout",
     "output_type": "stream",
     "text": [
      "Found 0 moderation labels.\n"
     ]
    },
    {
     "name": "stderr",
     "output_type": "stream",
     "text": [
      "INFO: Found 5 moderation labels in resized/BreastExam/dreamstimemaximum_133939422.jpg.\n",
      "INFO: Detecting suggestive content in resized/BreastExam/dreamstimemaximum_141522556.jpg...\n"
     ]
    },
    {
     "name": "stdout",
     "output_type": "stream",
     "text": [
      "Found 5 moderation labels.\n"
     ]
    },
    {
     "name": "stderr",
     "output_type": "stream",
     "text": [
      "INFO: Found 0 moderation labels in resized/BreastExam/dreamstimemaximum_141522556.jpg.\n",
      "INFO: Detecting suggestive content in resized/BreastExam/dreamstimemaximum_173040953.jpg...\n"
     ]
    },
    {
     "name": "stdout",
     "output_type": "stream",
     "text": [
      "Found 0 moderation labels.\n"
     ]
    },
    {
     "name": "stderr",
     "output_type": "stream",
     "text": [
      "INFO: Found 3 moderation labels in resized/BreastExam/dreamstimemaximum_173040953.jpg.\n",
      "INFO: Detecting suggestive content in resized/BreastExam/dreamstimemaximum_176675528.jpg...\n"
     ]
    },
    {
     "name": "stdout",
     "output_type": "stream",
     "text": [
      "Found 3 moderation labels.\n"
     ]
    },
    {
     "name": "stderr",
     "output_type": "stream",
     "text": [
      "INFO: Found 2 moderation labels in resized/BreastExam/dreamstimemaximum_176675528.jpg.\n",
      "INFO: Detecting suggestive content in resized/BreastExam/dreamstimemaximum_207123274.jpg...\n"
     ]
    },
    {
     "name": "stdout",
     "output_type": "stream",
     "text": [
      "Found 2 moderation labels.\n"
     ]
    },
    {
     "name": "stderr",
     "output_type": "stream",
     "text": [
      "INFO: Found 0 moderation labels in resized/BreastExam/dreamstimemaximum_207123274.jpg.\n",
      "INFO: Detecting suggestive content in resized/BreastExam/dreamstimemaximum_20880761.jpg...\n"
     ]
    },
    {
     "name": "stdout",
     "output_type": "stream",
     "text": [
      "Found 0 moderation labels.\n"
     ]
    },
    {
     "name": "stderr",
     "output_type": "stream",
     "text": [
      "INFO: Found 3 moderation labels in resized/BreastExam/dreamstimemaximum_20880761.jpg.\n",
      "INFO: Detecting suggestive content in resized/BreastExam/dreamstimemaximum_20880771.jpg...\n"
     ]
    },
    {
     "name": "stdout",
     "output_type": "stream",
     "text": [
      "Found 3 moderation labels.\n"
     ]
    },
    {
     "name": "stderr",
     "output_type": "stream",
     "text": [
      "INFO: Found 3 moderation labels in resized/BreastExam/dreamstimemaximum_20880771.jpg.\n",
      "INFO: Detecting suggestive content in resized/BreastExam/dreamstimemaximum_20880777.jpg...\n"
     ]
    },
    {
     "name": "stdout",
     "output_type": "stream",
     "text": [
      "Found 3 moderation labels.\n"
     ]
    },
    {
     "name": "stderr",
     "output_type": "stream",
     "text": [
      "INFO: Found 3 moderation labels in resized/BreastExam/dreamstimemaximum_20880777.jpg.\n",
      "INFO: Detecting suggestive content in resized/BreastExam/dreamstimemaximum_250259473.jpg...\n"
     ]
    },
    {
     "name": "stdout",
     "output_type": "stream",
     "text": [
      "Found 3 moderation labels.\n"
     ]
    },
    {
     "name": "stderr",
     "output_type": "stream",
     "text": [
      "INFO: Found 0 moderation labels in resized/BreastExam/dreamstimemaximum_250259473.jpg.\n",
      "INFO: Detecting suggestive content in resized/BreastExam/dreamstimemaximum_250746467.jpg...\n"
     ]
    },
    {
     "name": "stdout",
     "output_type": "stream",
     "text": [
      "Found 0 moderation labels.\n"
     ]
    },
    {
     "name": "stderr",
     "output_type": "stream",
     "text": [
      "INFO: Found 3 moderation labels in resized/BreastExam/dreamstimemaximum_250746467.jpg.\n",
      "INFO: Detecting suggestive content in resized/BreastExam/dreamstimemaximum_251647733.jpg...\n"
     ]
    },
    {
     "name": "stdout",
     "output_type": "stream",
     "text": [
      "Found 3 moderation labels.\n"
     ]
    },
    {
     "name": "stderr",
     "output_type": "stream",
     "text": [
      "INFO: Found 4 moderation labels in resized/BreastExam/dreamstimemaximum_251647733.jpg.\n",
      "INFO: Detecting suggestive content in resized/BreastExam/dreamstimemaximum_251869704.jpg...\n"
     ]
    },
    {
     "name": "stdout",
     "output_type": "stream",
     "text": [
      "Found 4 moderation labels.\n"
     ]
    },
    {
     "name": "stderr",
     "output_type": "stream",
     "text": [
      "INFO: Found 0 moderation labels in resized/BreastExam/dreamstimemaximum_251869704.jpg.\n",
      "INFO: Detecting suggestive content in resized/BreastExam/dreamstimemaximum_251940079.jpg...\n"
     ]
    },
    {
     "name": "stdout",
     "output_type": "stream",
     "text": [
      "Found 0 moderation labels.\n"
     ]
    },
    {
     "name": "stderr",
     "output_type": "stream",
     "text": [
      "INFO: Found 5 moderation labels in resized/BreastExam/dreamstimemaximum_251940079.jpg.\n",
      "INFO: Detecting suggestive content in resized/BreastExam/dreamstimemaximum_29774693.jpg...\n"
     ]
    },
    {
     "name": "stdout",
     "output_type": "stream",
     "text": [
      "Found 5 moderation labels.\n"
     ]
    },
    {
     "name": "stderr",
     "output_type": "stream",
     "text": [
      "INFO: Found 3 moderation labels in resized/BreastExam/dreamstimemaximum_29774693.jpg.\n",
      "INFO: Detecting suggestive content in resized/BreastExam/dreamstimemaximum_331172607.jpg...\n"
     ]
    },
    {
     "name": "stdout",
     "output_type": "stream",
     "text": [
      "Found 3 moderation labels.\n"
     ]
    },
    {
     "name": "stderr",
     "output_type": "stream",
     "text": [
      "INFO: Found 0 moderation labels in resized/BreastExam/dreamstimemaximum_331172607.jpg.\n",
      "INFO: Detecting suggestive content in resized/BreastExam/dreamstimemaximum_333223096.jpg...\n"
     ]
    },
    {
     "name": "stdout",
     "output_type": "stream",
     "text": [
      "Found 0 moderation labels.\n"
     ]
    },
    {
     "name": "stderr",
     "output_type": "stream",
     "text": [
      "INFO: Found 0 moderation labels in resized/BreastExam/dreamstimemaximum_333223096.jpg.\n",
      "INFO: Detecting suggestive content in resized/BreastExam/dreamstimemaximum_345386762.jpg...\n"
     ]
    },
    {
     "name": "stdout",
     "output_type": "stream",
     "text": [
      "Found 0 moderation labels.\n"
     ]
    },
    {
     "name": "stderr",
     "output_type": "stream",
     "text": [
      "INFO: Found 0 moderation labels in resized/BreastExam/dreamstimemaximum_345386762.jpg.\n",
      "INFO: Detecting suggestive content in resized/BreastExam/dreamstimemaximum_45316700.jpg...\n"
     ]
    },
    {
     "name": "stdout",
     "output_type": "stream",
     "text": [
      "Found 0 moderation labels.\n"
     ]
    },
    {
     "name": "stderr",
     "output_type": "stream",
     "text": [
      "INFO: Found 0 moderation labels in resized/BreastExam/dreamstimemaximum_45316700.jpg.\n",
      "INFO: Detecting suggestive content in resized/BreastExam/dreamstimemaximum_49879334.jpg...\n"
     ]
    },
    {
     "name": "stdout",
     "output_type": "stream",
     "text": [
      "Found 0 moderation labels.\n"
     ]
    },
    {
     "name": "stderr",
     "output_type": "stream",
     "text": [
      "INFO: Found 5 moderation labels in resized/BreastExam/dreamstimemaximum_49879334.jpg.\n",
      "INFO: Detecting suggestive content in resized/BreastExam/dreamstimemaximum_51091477.jpg...\n"
     ]
    },
    {
     "name": "stdout",
     "output_type": "stream",
     "text": [
      "Found 5 moderation labels.\n"
     ]
    },
    {
     "name": "stderr",
     "output_type": "stream",
     "text": [
      "INFO: Found 5 moderation labels in resized/BreastExam/dreamstimemaximum_51091477.jpg.\n",
      "INFO: Detecting suggestive content in resized/BreastExam/dreamstimemaximum_55485205.jpg...\n"
     ]
    },
    {
     "name": "stdout",
     "output_type": "stream",
     "text": [
      "Found 5 moderation labels.\n"
     ]
    },
    {
     "name": "stderr",
     "output_type": "stream",
     "text": [
      "INFO: Found 0 moderation labels in resized/BreastExam/dreamstimemaximum_55485205.jpg.\n",
      "INFO: Detecting suggestive content in resized/BreastExam/dreamstimemaximum_55510901.jpg...\n"
     ]
    },
    {
     "name": "stdout",
     "output_type": "stream",
     "text": [
      "Found 0 moderation labels.\n"
     ]
    },
    {
     "name": "stderr",
     "output_type": "stream",
     "text": [
      "INFO: Found 3 moderation labels in resized/BreastExam/dreamstimemaximum_55510901.jpg.\n",
      "INFO: Detecting suggestive content in resized/BreastExam/dreamstimemaximum_55510905.jpg...\n"
     ]
    },
    {
     "name": "stdout",
     "output_type": "stream",
     "text": [
      "Found 3 moderation labels.\n"
     ]
    },
    {
     "name": "stderr",
     "output_type": "stream",
     "text": [
      "INFO: Found 3 moderation labels in resized/BreastExam/dreamstimemaximum_55510905.jpg.\n",
      "INFO: Detecting suggestive content in resized/BreastExam/dreamstimemaximum_59736182.jpg...\n"
     ]
    },
    {
     "name": "stdout",
     "output_type": "stream",
     "text": [
      "Found 3 moderation labels.\n"
     ]
    },
    {
     "name": "stderr",
     "output_type": "stream",
     "text": [
      "INFO: Found 5 moderation labels in resized/BreastExam/dreamstimemaximum_59736182.jpg.\n",
      "INFO: Detecting suggestive content in resized/BreastExam/dreamstimemaximum_67192785.jpg...\n"
     ]
    },
    {
     "name": "stdout",
     "output_type": "stream",
     "text": [
      "Found 5 moderation labels.\n"
     ]
    },
    {
     "name": "stderr",
     "output_type": "stream",
     "text": [
      "INFO: Found 5 moderation labels in resized/BreastExam/dreamstimemaximum_67192785.jpg.\n",
      "INFO: Detecting suggestive content in resized/BreastExam/dreamstimemaximum_77807716.jpg...\n"
     ]
    },
    {
     "name": "stdout",
     "output_type": "stream",
     "text": [
      "Found 5 moderation labels.\n"
     ]
    },
    {
     "name": "stderr",
     "output_type": "stream",
     "text": [
      "INFO: Found 3 moderation labels in resized/BreastExam/dreamstimemaximum_77807716.jpg.\n",
      "INFO: Detecting suggestive content in resized/BreastExam/dreamstimemaximum_77807936.jpg...\n"
     ]
    },
    {
     "name": "stdout",
     "output_type": "stream",
     "text": [
      "Found 3 moderation labels.\n"
     ]
    },
    {
     "name": "stderr",
     "output_type": "stream",
     "text": [
      "INFO: Found 3 moderation labels in resized/BreastExam/dreamstimemaximum_77807936.jpg.\n",
      "INFO: Detecting suggestive content in resized/BreastExam/dreamstimemaximum_82163298.jpg...\n"
     ]
    },
    {
     "name": "stdout",
     "output_type": "stream",
     "text": [
      "Found 3 moderation labels.\n"
     ]
    },
    {
     "name": "stderr",
     "output_type": "stream",
     "text": [
      "INFO: Found 0 moderation labels in resized/BreastExam/dreamstimemaximum_82163298.jpg.\n",
      "INFO: Detecting suggestive content in resized/BreastExam/dreamstimemaximum_88565794.jpg...\n"
     ]
    },
    {
     "name": "stdout",
     "output_type": "stream",
     "text": [
      "Found 0 moderation labels.\n"
     ]
    },
    {
     "name": "stderr",
     "output_type": "stream",
     "text": [
      "INFO: Found 0 moderation labels in resized/BreastExam/dreamstimemaximum_88565794.jpg.\n",
      "INFO: Detecting suggestive content in resized/BreastExam/dreamstimemaximum_92860536.jpg...\n"
     ]
    },
    {
     "name": "stdout",
     "output_type": "stream",
     "text": [
      "Found 0 moderation labels.\n"
     ]
    },
    {
     "name": "stderr",
     "output_type": "stream",
     "text": [
      "INFO: Found 2 moderation labels in resized/BreastExam/dreamstimemaximum_92860536.jpg.\n",
      "INFO: Detecting suggestive content in resized/BreastExam/dreamstimemaximum_94306606.jpg...\n"
     ]
    },
    {
     "name": "stdout",
     "output_type": "stream",
     "text": [
      "Found 2 moderation labels.\n"
     ]
    },
    {
     "name": "stderr",
     "output_type": "stream",
     "text": [
      "INFO: Found 3 moderation labels in resized/BreastExam/dreamstimemaximum_94306606.jpg.\n",
      "INFO: Detecting suggestive content in resized/BreastExam/dreamstimemaximum_94323393.jpg...\n"
     ]
    },
    {
     "name": "stdout",
     "output_type": "stream",
     "text": [
      "Found 3 moderation labels.\n"
     ]
    },
    {
     "name": "stderr",
     "output_type": "stream",
     "text": [
      "INFO: Found 0 moderation labels in resized/BreastExam/dreamstimemaximum_94323393.jpg.\n",
      "INFO: Detecting suggestive content in resized/BreastExam/dreamstimemaximum_94323528.jpg...\n"
     ]
    },
    {
     "name": "stdout",
     "output_type": "stream",
     "text": [
      "Found 0 moderation labels.\n"
     ]
    },
    {
     "name": "stderr",
     "output_type": "stream",
     "text": [
      "INFO: Found 3 moderation labels in resized/BreastExam/dreamstimemaximum_94323528.jpg.\n",
      "INFO: Detecting suggestive content in resized/BreastExam/dreamstimemaximum_96797189.jpg...\n"
     ]
    },
    {
     "name": "stdout",
     "output_type": "stream",
     "text": [
      "Found 3 moderation labels.\n"
     ]
    },
    {
     "name": "stderr",
     "output_type": "stream",
     "text": [
      "INFO: Found 0 moderation labels in resized/BreastExam/dreamstimemaximum_96797189.jpg.\n",
      "INFO: Detecting suggestive content in resized/Menstruation/1000_F_451766029_fVSr3e3wusvjAnbEpzCrmxKznINlFfeB.jpg...\n"
     ]
    },
    {
     "name": "stdout",
     "output_type": "stream",
     "text": [
      "Found 0 moderation labels.\n"
     ]
    },
    {
     "name": "stderr",
     "output_type": "stream",
     "text": [
      "INFO: Found 0 moderation labels in resized/Menstruation/1000_F_451766029_fVSr3e3wusvjAnbEpzCrmxKznINlFfeB.jpg.\n",
      "INFO: Detecting suggestive content in resized/Menstruation/PERIOD COMPANIES TESTING 160823 GettyImages-1298129183_L.jpeg...\n"
     ]
    },
    {
     "name": "stdout",
     "output_type": "stream",
     "text": [
      "Found 0 moderation labels.\n"
     ]
    },
    {
     "name": "stderr",
     "output_type": "stream",
     "text": [
      "INFO: Found 0 moderation labels in resized/Menstruation/PERIOD COMPANIES TESTING 160823 GettyImages-1298129183_L.jpeg.\n",
      "INFO: Detecting suggestive content in resized/Menstruation/What_are_heavy_periods_Kk8hREp.width-960.png...\n"
     ]
    },
    {
     "name": "stdout",
     "output_type": "stream",
     "text": [
      "Found 0 moderation labels.\n"
     ]
    },
    {
     "name": "stderr",
     "output_type": "stream",
     "text": [
      "INFO: Found 0 moderation labels in resized/Menstruation/What_are_heavy_periods_Kk8hREp.width-960.png.\n",
      "INFO: Detecting suggestive content in resized/Menstruation/dreamstimemaximum_154455681.jpg...\n"
     ]
    },
    {
     "name": "stdout",
     "output_type": "stream",
     "text": [
      "Found 0 moderation labels.\n"
     ]
    },
    {
     "name": "stderr",
     "output_type": "stream",
     "text": [
      "INFO: Found 0 moderation labels in resized/Menstruation/dreamstimemaximum_154455681.jpg.\n",
      "INFO: Detecting suggestive content in resized/Menstruation/dreamstimemaximum_338892443.jpg...\n"
     ]
    },
    {
     "name": "stdout",
     "output_type": "stream",
     "text": [
      "Found 0 moderation labels.\n"
     ]
    },
    {
     "name": "stderr",
     "output_type": "stream",
     "text": [
      "INFO: Found 3 moderation labels in resized/Menstruation/dreamstimemaximum_338892443.jpg.\n",
      "INFO: Detecting suggestive content in resized/Menstruation/dreamstimemaximum_338892460.jpg...\n"
     ]
    },
    {
     "name": "stdout",
     "output_type": "stream",
     "text": [
      "Found 3 moderation labels.\n"
     ]
    },
    {
     "name": "stderr",
     "output_type": "stream",
     "text": [
      "INFO: Found 3 moderation labels in resized/Menstruation/dreamstimemaximum_338892460.jpg.\n",
      "INFO: Detecting suggestive content in resized/Menstruation/dreamstimemaximum_98178285.jpg...\n"
     ]
    },
    {
     "name": "stdout",
     "output_type": "stream",
     "text": [
      "Found 3 moderation labels.\n"
     ]
    },
    {
     "name": "stderr",
     "output_type": "stream",
     "text": [
      "INFO: Found 0 moderation labels in resized/Menstruation/dreamstimemaximum_98178285.jpg.\n",
      "INFO: Detecting suggestive content in resized/Menstruation/images-6.jpeg...\n"
     ]
    },
    {
     "name": "stdout",
     "output_type": "stream",
     "text": [
      "Found 0 moderation labels.\n"
     ]
    },
    {
     "name": "stderr",
     "output_type": "stream",
     "text": [
      "INFO: Found 3 moderation labels in resized/Menstruation/images-6.jpeg.\n",
      "INFO: Detecting suggestive content in resized/Menstruation/pexels-karolina-grabowska-7691984-1024x682.jpeg...\n"
     ]
    },
    {
     "name": "stdout",
     "output_type": "stream",
     "text": [
      "Found 3 moderation labels.\n"
     ]
    },
    {
     "name": "stderr",
     "output_type": "stream",
     "text": [
      "INFO: Found 0 moderation labels in resized/Menstruation/pexels-karolina-grabowska-7691984-1024x682.jpeg.\n",
      "INFO: Detecting suggestive content in resized/Menstruation/pexels-karolina-grabowska-7692051.jpg...\n"
     ]
    },
    {
     "name": "stdout",
     "output_type": "stream",
     "text": [
      "Found 0 moderation labels.\n"
     ]
    },
    {
     "name": "stderr",
     "output_type": "stream",
     "text": [
      "INFO: Found 3 moderation labels in resized/Menstruation/pexels-karolina-grabowska-7692051.jpg.\n",
      "INFO: Detecting suggestive content in resized/PregnantNonSuggestive/52633490609_712333bf83_c.jpg...\n"
     ]
    },
    {
     "name": "stdout",
     "output_type": "stream",
     "text": [
      "Found 3 moderation labels.\n"
     ]
    },
    {
     "name": "stderr",
     "output_type": "stream",
     "text": [
      "INFO: Found 5 moderation labels in resized/PregnantNonSuggestive/52633490609_712333bf83_c.jpg.\n",
      "INFO: Detecting suggestive content in resized/PregnantNonSuggestive/52707217985_a38351d2b2_c.jpg...\n"
     ]
    },
    {
     "name": "stdout",
     "output_type": "stream",
     "text": [
      "Found 5 moderation labels.\n"
     ]
    },
    {
     "name": "stderr",
     "output_type": "stream",
     "text": [
      "INFO: Found 9 moderation labels in resized/PregnantNonSuggestive/52707217985_a38351d2b2_c.jpg.\n",
      "INFO: Detecting suggestive content in resized/PregnantNonSuggestive/52708859118_2e77fdebe1_c.jpg...\n"
     ]
    },
    {
     "name": "stdout",
     "output_type": "stream",
     "text": [
      "Found 9 moderation labels.\n"
     ]
    },
    {
     "name": "stderr",
     "output_type": "stream",
     "text": [
      "INFO: Found 5 moderation labels in resized/PregnantNonSuggestive/52708859118_2e77fdebe1_c.jpg.\n",
      "INFO: Detecting suggestive content in resized/PregnantNonSuggestive/andre-adjahoe-tqunk3qB_yU-unsplash.jpg...\n"
     ]
    },
    {
     "name": "stdout",
     "output_type": "stream",
     "text": [
      "Found 5 moderation labels.\n"
     ]
    },
    {
     "name": "stderr",
     "output_type": "stream",
     "text": [
      "INFO: Found 2 moderation labels in resized/PregnantNonSuggestive/andre-adjahoe-tqunk3qB_yU-unsplash.jpg.\n",
      "INFO: Detecting suggestive content in resized/PregnantNonSuggestive/andrea-brambila-RGT3KAF4IxQ-unsplash.jpg...\n"
     ]
    },
    {
     "name": "stdout",
     "output_type": "stream",
     "text": [
      "Found 2 moderation labels.\n"
     ]
    },
    {
     "name": "stderr",
     "output_type": "stream",
     "text": [
      "INFO: Found 2 moderation labels in resized/PregnantNonSuggestive/andrea-brambila-RGT3KAF4IxQ-unsplash.jpg.\n",
      "INFO: Detecting suggestive content in resized/PregnantNonSuggestive/andrea-brambila-jN_9s1OcRIO-unsplash.jpg...\n"
     ]
    },
    {
     "name": "stdout",
     "output_type": "stream",
     "text": [
      "Found 2 moderation labels.\n"
     ]
    },
    {
     "name": "stderr",
     "output_type": "stream",
     "text": [
      "INFO: Found 5 moderation labels in resized/PregnantNonSuggestive/andrea-brambila-jN_9s1OcRIO-unsplash.jpg.\n",
      "INFO: Detecting suggestive content in resized/PregnantNonSuggestive/anna-civolani-huDTBofrOZE-unsplash.jpg...\n"
     ]
    },
    {
     "name": "stdout",
     "output_type": "stream",
     "text": [
      "Found 5 moderation labels.\n"
     ]
    },
    {
     "name": "stderr",
     "output_type": "stream",
     "text": [
      "INFO: Found 0 moderation labels in resized/PregnantNonSuggestive/anna-civolani-huDTBofrOZE-unsplash.jpg.\n",
      "INFO: Detecting suggestive content in resized/PregnantNonSuggestive/anna-deli-HyE8ZHXAOSU-unsplash.jpg...\n"
     ]
    },
    {
     "name": "stdout",
     "output_type": "stream",
     "text": [
      "Found 0 moderation labels.\n"
     ]
    },
    {
     "name": "stderr",
     "output_type": "stream",
     "text": [
      "INFO: Found 5 moderation labels in resized/PregnantNonSuggestive/anna-deli-HyE8ZHXAOSU-unsplash.jpg.\n",
      "INFO: Detecting suggestive content in resized/PregnantNonSuggestive/anna-deli-JWN_i4Cchug-unsplash.jpg...\n"
     ]
    },
    {
     "name": "stdout",
     "output_type": "stream",
     "text": [
      "Found 5 moderation labels.\n"
     ]
    },
    {
     "name": "stderr",
     "output_type": "stream",
     "text": [
      "INFO: Found 0 moderation labels in resized/PregnantNonSuggestive/anna-deli-JWN_i4Cchug-unsplash.jpg.\n",
      "INFO: Detecting suggestive content in resized/PregnantNonSuggestive/anna-deli-X-TcNKHso4s-unsplash.jpg...\n"
     ]
    },
    {
     "name": "stdout",
     "output_type": "stream",
     "text": [
      "Found 0 moderation labels.\n"
     ]
    },
    {
     "name": "stderr",
     "output_type": "stream",
     "text": [
      "INFO: Found 5 moderation labels in resized/PregnantNonSuggestive/anna-deli-X-TcNKHso4s-unsplash.jpg.\n",
      "INFO: Detecting suggestive content in resized/PregnantNonSuggestive/anna-deli-aV1yYGcK1jU-unsplash.jpg...\n"
     ]
    },
    {
     "name": "stdout",
     "output_type": "stream",
     "text": [
      "Found 5 moderation labels.\n"
     ]
    },
    {
     "name": "stderr",
     "output_type": "stream",
     "text": [
      "INFO: Found 0 moderation labels in resized/PregnantNonSuggestive/anna-deli-aV1yYGcK1jU-unsplash.jpg.\n",
      "INFO: Detecting suggestive content in resized/PregnantNonSuggestive/anna-myslowska-kiczek-jBNwXT4VlQ-unsplash.jpg...\n"
     ]
    },
    {
     "name": "stdout",
     "output_type": "stream",
     "text": [
      "Found 0 moderation labels.\n"
     ]
    },
    {
     "name": "stderr",
     "output_type": "stream",
     "text": [
      "INFO: Found 0 moderation labels in resized/PregnantNonSuggestive/anna-myslowska-kiczek-jBNwXT4VlQ-unsplash.jpg.\n",
      "INFO: Detecting suggestive content in resized/PregnantNonSuggestive/anthony-tran--OlGtjmcVG4-unsplash.jpg...\n"
     ]
    },
    {
     "name": "stdout",
     "output_type": "stream",
     "text": [
      "Found 0 moderation labels.\n"
     ]
    },
    {
     "name": "stderr",
     "output_type": "stream",
     "text": [
      "INFO: Found 2 moderation labels in resized/PregnantNonSuggestive/anthony-tran--OlGtjmcVG4-unsplash.jpg.\n",
      "INFO: Detecting suggestive content in resized/PregnantNonSuggestive/apostolos-vamvouras-A6Ep0vbe3jK-unsplash.jpg...\n"
     ]
    },
    {
     "name": "stdout",
     "output_type": "stream",
     "text": [
      "Found 2 moderation labels.\n"
     ]
    },
    {
     "name": "stderr",
     "output_type": "stream",
     "text": [
      "INFO: Found 5 moderation labels in resized/PregnantNonSuggestive/apostolos-vamvouras-A6Ep0vbe3jK-unsplash.jpg.\n",
      "INFO: Detecting suggestive content in resized/PregnantNonSuggestive/apostolos-vamvouras-Cv7BQy1IG0I-unsplash.jpg...\n"
     ]
    },
    {
     "name": "stdout",
     "output_type": "stream",
     "text": [
      "Found 5 moderation labels.\n"
     ]
    },
    {
     "name": "stderr",
     "output_type": "stream",
     "text": [
      "INFO: Found 5 moderation labels in resized/PregnantNonSuggestive/apostolos-vamvouras-Cv7BQy1IG0I-unsplash.jpg.\n",
      "INFO: Detecting suggestive content in resized/PregnantNonSuggestive/asdrubal-luna-2NqhAnCmgQY-unsplash.jpg...\n"
     ]
    },
    {
     "name": "stdout",
     "output_type": "stream",
     "text": [
      "Found 5 moderation labels.\n"
     ]
    },
    {
     "name": "stderr",
     "output_type": "stream",
     "text": [
      "INFO: Found 0 moderation labels in resized/PregnantNonSuggestive/asdrubal-luna-2NqhAnCmgQY-unsplash.jpg.\n",
      "INFO: Detecting suggestive content in resized/PregnantNonSuggestive/asdrubal-luna-deAAjXh8JOU-unsplash.jpg...\n"
     ]
    },
    {
     "name": "stdout",
     "output_type": "stream",
     "text": [
      "Found 0 moderation labels.\n"
     ]
    },
    {
     "name": "stderr",
     "output_type": "stream",
     "text": [
      "INFO: Found 0 moderation labels in resized/PregnantNonSuggestive/asdrubal-luna-deAAjXh8JOU-unsplash.jpg.\n",
      "INFO: Detecting suggestive content in resized/PregnantNonSuggestive/asdrubal-luna-naenqoVRlrg-unsplash.jpg...\n"
     ]
    },
    {
     "name": "stdout",
     "output_type": "stream",
     "text": [
      "Found 0 moderation labels.\n"
     ]
    },
    {
     "name": "stderr",
     "output_type": "stream",
     "text": [
      "INFO: Found 0 moderation labels in resized/PregnantNonSuggestive/asdrubal-luna-naenqoVRlrg-unsplash.jpg.\n",
      "INFO: Detecting suggestive content in resized/PregnantNonSuggestive/asdrubal-luna-uqfwXLOJeQI-unsplash.jpg...\n"
     ]
    },
    {
     "name": "stdout",
     "output_type": "stream",
     "text": [
      "Found 0 moderation labels.\n"
     ]
    },
    {
     "name": "stderr",
     "output_type": "stream",
     "text": [
      "INFO: Found 0 moderation labels in resized/PregnantNonSuggestive/asdrubal-luna-uqfwXLOJeQI-unsplash.jpg.\n",
      "INFO: Detecting suggestive content in resized/PregnantNonSuggestive/asdrubal-luna-z4Oox65UGpc-unsplash.jpg...\n"
     ]
    },
    {
     "name": "stdout",
     "output_type": "stream",
     "text": [
      "Found 0 moderation labels.\n"
     ]
    },
    {
     "name": "stderr",
     "output_type": "stream",
     "text": [
      "INFO: Found 0 moderation labels in resized/PregnantNonSuggestive/asdrubal-luna-z4Oox65UGpc-unsplash.jpg.\n",
      "INFO: Detecting suggestive content in resized/PregnantNonSuggestive/cassidy-rowell-XcMtMSlYZmo-unsplash.jpg...\n"
     ]
    },
    {
     "name": "stdout",
     "output_type": "stream",
     "text": [
      "Found 0 moderation labels.\n"
     ]
    },
    {
     "name": "stderr",
     "output_type": "stream",
     "text": [
      "INFO: Found 0 moderation labels in resized/PregnantNonSuggestive/cassidy-rowell-XcMtMSlYZmo-unsplash.jpg.\n",
      "INFO: Detecting suggestive content in resized/PregnantNonSuggestive/dragos-gontariu-bqG4F5RBqoQ-unsplash.jpg...\n"
     ]
    },
    {
     "name": "stdout",
     "output_type": "stream",
     "text": [
      "Found 0 moderation labels.\n"
     ]
    },
    {
     "name": "stderr",
     "output_type": "stream",
     "text": [
      "INFO: Found 0 moderation labels in resized/PregnantNonSuggestive/dragos-gontariu-bqG4F5RBqoQ-unsplash.jpg.\n",
      "INFO: Detecting suggestive content in resized/PregnantNonSuggestive/dreamstimemaximum_13817581.jpg...\n"
     ]
    },
    {
     "name": "stdout",
     "output_type": "stream",
     "text": [
      "Found 0 moderation labels.\n"
     ]
    },
    {
     "name": "stderr",
     "output_type": "stream",
     "text": [
      "INFO: Found 0 moderation labels in resized/PregnantNonSuggestive/dreamstimemaximum_13817581.jpg.\n",
      "INFO: Detecting suggestive content in resized/PregnantNonSuggestive/dreamstimemaximum_143921426.jpg...\n"
     ]
    },
    {
     "name": "stdout",
     "output_type": "stream",
     "text": [
      "Found 0 moderation labels.\n"
     ]
    },
    {
     "name": "stderr",
     "output_type": "stream",
     "text": [
      "INFO: Found 0 moderation labels in resized/PregnantNonSuggestive/dreamstimemaximum_143921426.jpg.\n",
      "INFO: Detecting suggestive content in resized/PregnantNonSuggestive/dreamstimemaximum_170223200.jpg...\n"
     ]
    },
    {
     "name": "stdout",
     "output_type": "stream",
     "text": [
      "Found 0 moderation labels.\n"
     ]
    },
    {
     "name": "stderr",
     "output_type": "stream",
     "text": [
      "INFO: Found 2 moderation labels in resized/PregnantNonSuggestive/dreamstimemaximum_170223200.jpg.\n",
      "INFO: Detecting suggestive content in resized/PregnantNonSuggestive/dreamstimemaximum_170666310.jpg...\n"
     ]
    },
    {
     "name": "stdout",
     "output_type": "stream",
     "text": [
      "Found 2 moderation labels.\n"
     ]
    },
    {
     "name": "stderr",
     "output_type": "stream",
     "text": [
      "INFO: Found 0 moderation labels in resized/PregnantNonSuggestive/dreamstimemaximum_170666310.jpg.\n",
      "INFO: Detecting suggestive content in resized/PregnantNonSuggestive/dreamstimemaximum_171000547.jpg...\n"
     ]
    },
    {
     "name": "stdout",
     "output_type": "stream",
     "text": [
      "Found 0 moderation labels.\n"
     ]
    },
    {
     "name": "stderr",
     "output_type": "stream",
     "text": [
      "INFO: Found 5 moderation labels in resized/PregnantNonSuggestive/dreamstimemaximum_171000547.jpg.\n",
      "INFO: Detecting suggestive content in resized/PregnantNonSuggestive/dreamstimemaximum_174915453.jpg...\n"
     ]
    },
    {
     "name": "stdout",
     "output_type": "stream",
     "text": [
      "Found 5 moderation labels.\n"
     ]
    },
    {
     "name": "stderr",
     "output_type": "stream",
     "text": [
      "INFO: Found 0 moderation labels in resized/PregnantNonSuggestive/dreamstimemaximum_174915453.jpg.\n",
      "INFO: Detecting suggestive content in resized/PregnantNonSuggestive/dreamstimemaximum_175332402.jpg...\n"
     ]
    },
    {
     "name": "stdout",
     "output_type": "stream",
     "text": [
      "Found 0 moderation labels.\n"
     ]
    },
    {
     "name": "stderr",
     "output_type": "stream",
     "text": [
      "INFO: Found 3 moderation labels in resized/PregnantNonSuggestive/dreamstimemaximum_175332402.jpg.\n",
      "INFO: Detecting suggestive content in resized/PregnantNonSuggestive/dreamstimemaximum_176436971.jpg...\n"
     ]
    },
    {
     "name": "stdout",
     "output_type": "stream",
     "text": [
      "Found 3 moderation labels.\n"
     ]
    },
    {
     "name": "stderr",
     "output_type": "stream",
     "text": [
      "INFO: Found 5 moderation labels in resized/PregnantNonSuggestive/dreamstimemaximum_176436971.jpg.\n",
      "INFO: Detecting suggestive content in resized/PregnantNonSuggestive/dreamstimemaximum_18674128.jpg...\n"
     ]
    },
    {
     "name": "stdout",
     "output_type": "stream",
     "text": [
      "Found 5 moderation labels.\n"
     ]
    },
    {
     "name": "stderr",
     "output_type": "stream",
     "text": [
      "INFO: Found 0 moderation labels in resized/PregnantNonSuggestive/dreamstimemaximum_18674128.jpg.\n",
      "INFO: Detecting suggestive content in resized/PregnantNonSuggestive/dreamstimemaximum_19163285.jpg...\n"
     ]
    },
    {
     "name": "stdout",
     "output_type": "stream",
     "text": [
      "Found 0 moderation labels.\n"
     ]
    },
    {
     "name": "stderr",
     "output_type": "stream",
     "text": [
      "INFO: Found 0 moderation labels in resized/PregnantNonSuggestive/dreamstimemaximum_19163285.jpg.\n",
      "INFO: Detecting suggestive content in resized/PregnantNonSuggestive/dreamstimemaximum_191989514.jpg...\n"
     ]
    },
    {
     "name": "stdout",
     "output_type": "stream",
     "text": [
      "Found 0 moderation labels.\n"
     ]
    },
    {
     "name": "stderr",
     "output_type": "stream",
     "text": [
      "INFO: Found 0 moderation labels in resized/PregnantNonSuggestive/dreamstimemaximum_191989514.jpg.\n",
      "INFO: Detecting suggestive content in resized/PregnantNonSuggestive/dreamstimemaximum_19841990.jpg...\n"
     ]
    },
    {
     "name": "stdout",
     "output_type": "stream",
     "text": [
      "Found 0 moderation labels.\n"
     ]
    },
    {
     "name": "stderr",
     "output_type": "stream",
     "text": [
      "INFO: Found 5 moderation labels in resized/PregnantNonSuggestive/dreamstimemaximum_19841990.jpg.\n",
      "INFO: Detecting suggestive content in resized/PregnantNonSuggestive/dreamstimemaximum_200050027.jpg...\n"
     ]
    },
    {
     "name": "stdout",
     "output_type": "stream",
     "text": [
      "Found 5 moderation labels.\n"
     ]
    },
    {
     "name": "stderr",
     "output_type": "stream",
     "text": [
      "INFO: Found 0 moderation labels in resized/PregnantNonSuggestive/dreamstimemaximum_200050027.jpg.\n",
      "INFO: Detecting suggestive content in resized/PregnantNonSuggestive/dreamstimemaximum_205466352.jpg...\n"
     ]
    },
    {
     "name": "stdout",
     "output_type": "stream",
     "text": [
      "Found 0 moderation labels.\n"
     ]
    },
    {
     "name": "stderr",
     "output_type": "stream",
     "text": [
      "INFO: Found 0 moderation labels in resized/PregnantNonSuggestive/dreamstimemaximum_205466352.jpg.\n",
      "INFO: Detecting suggestive content in resized/PregnantNonSuggestive/dreamstimemaximum_2127757.jpg...\n"
     ]
    },
    {
     "name": "stdout",
     "output_type": "stream",
     "text": [
      "Found 0 moderation labels.\n"
     ]
    },
    {
     "name": "stderr",
     "output_type": "stream",
     "text": [
      "INFO: Found 2 moderation labels in resized/PregnantNonSuggestive/dreamstimemaximum_2127757.jpg.\n",
      "INFO: Detecting suggestive content in resized/PregnantNonSuggestive/dreamstimemaximum_220829392.jpg...\n"
     ]
    },
    {
     "name": "stdout",
     "output_type": "stream",
     "text": [
      "Found 2 moderation labels.\n"
     ]
    },
    {
     "name": "stderr",
     "output_type": "stream",
     "text": [
      "INFO: Found 0 moderation labels in resized/PregnantNonSuggestive/dreamstimemaximum_220829392.jpg.\n",
      "INFO: Detecting suggestive content in resized/PregnantNonSuggestive/dreamstimemaximum_220969242.jpg...\n"
     ]
    },
    {
     "name": "stdout",
     "output_type": "stream",
     "text": [
      "Found 0 moderation labels.\n"
     ]
    },
    {
     "name": "stderr",
     "output_type": "stream",
     "text": [
      "INFO: Found 0 moderation labels in resized/PregnantNonSuggestive/dreamstimemaximum_220969242.jpg.\n",
      "INFO: Detecting suggestive content in resized/PregnantNonSuggestive/dreamstimemaximum_22473712.jpg...\n"
     ]
    },
    {
     "name": "stdout",
     "output_type": "stream",
     "text": [
      "Found 0 moderation labels.\n"
     ]
    },
    {
     "name": "stderr",
     "output_type": "stream",
     "text": [
      "INFO: Found 0 moderation labels in resized/PregnantNonSuggestive/dreamstimemaximum_22473712.jpg.\n",
      "INFO: Detecting suggestive content in resized/PregnantNonSuggestive/dreamstimemaximum_22985723.jpg...\n"
     ]
    },
    {
     "name": "stdout",
     "output_type": "stream",
     "text": [
      "Found 0 moderation labels.\n"
     ]
    },
    {
     "name": "stderr",
     "output_type": "stream",
     "text": [
      "INFO: Found 0 moderation labels in resized/PregnantNonSuggestive/dreamstimemaximum_22985723.jpg.\n",
      "INFO: Detecting suggestive content in resized/PregnantNonSuggestive/dreamstimemaximum_238769191.jpg...\n"
     ]
    },
    {
     "name": "stdout",
     "output_type": "stream",
     "text": [
      "Found 0 moderation labels.\n"
     ]
    },
    {
     "name": "stderr",
     "output_type": "stream",
     "text": [
      "INFO: Found 0 moderation labels in resized/PregnantNonSuggestive/dreamstimemaximum_238769191.jpg.\n",
      "INFO: Detecting suggestive content in resized/PregnantNonSuggestive/dreamstimemaximum_245637822.jpg...\n"
     ]
    },
    {
     "name": "stdout",
     "output_type": "stream",
     "text": [
      "Found 0 moderation labels.\n"
     ]
    },
    {
     "name": "stderr",
     "output_type": "stream",
     "text": [
      "INFO: Found 0 moderation labels in resized/PregnantNonSuggestive/dreamstimemaximum_245637822.jpg.\n",
      "INFO: Detecting suggestive content in resized/PregnantNonSuggestive/dreamstimemaximum_247657500.jpg...\n"
     ]
    },
    {
     "name": "stdout",
     "output_type": "stream",
     "text": [
      "Found 0 moderation labels.\n"
     ]
    },
    {
     "name": "stderr",
     "output_type": "stream",
     "text": [
      "INFO: Found 0 moderation labels in resized/PregnantNonSuggestive/dreamstimemaximum_247657500.jpg.\n",
      "INFO: Detecting suggestive content in resized/PregnantNonSuggestive/dreamstimemaximum_25107165.jpg...\n"
     ]
    },
    {
     "name": "stdout",
     "output_type": "stream",
     "text": [
      "Found 0 moderation labels.\n"
     ]
    },
    {
     "name": "stderr",
     "output_type": "stream",
     "text": [
      "INFO: Found 0 moderation labels in resized/PregnantNonSuggestive/dreamstimemaximum_25107165.jpg.\n",
      "INFO: Detecting suggestive content in resized/PregnantNonSuggestive/dreamstimemaximum_252919253.jpg...\n"
     ]
    },
    {
     "name": "stdout",
     "output_type": "stream",
     "text": [
      "Found 0 moderation labels.\n"
     ]
    },
    {
     "name": "stderr",
     "output_type": "stream",
     "text": [
      "INFO: Found 0 moderation labels in resized/PregnantNonSuggestive/dreamstimemaximum_252919253.jpg.\n",
      "INFO: Detecting suggestive content in resized/PregnantNonSuggestive/dreamstimemaximum_27467693.jpg...\n"
     ]
    },
    {
     "name": "stdout",
     "output_type": "stream",
     "text": [
      "Found 0 moderation labels.\n"
     ]
    },
    {
     "name": "stderr",
     "output_type": "stream",
     "text": [
      "INFO: Found 0 moderation labels in resized/PregnantNonSuggestive/dreamstimemaximum_27467693.jpg.\n",
      "INFO: Detecting suggestive content in resized/PregnantNonSuggestive/dreamstimemaximum_281496398.jpg...\n"
     ]
    },
    {
     "name": "stdout",
     "output_type": "stream",
     "text": [
      "Found 0 moderation labels.\n"
     ]
    },
    {
     "name": "stderr",
     "output_type": "stream",
     "text": [
      "INFO: Found 2 moderation labels in resized/PregnantNonSuggestive/dreamstimemaximum_281496398.jpg.\n",
      "INFO: Detecting suggestive content in resized/PregnantNonSuggestive/dreamstimemaximum_283575797.jpg...\n"
     ]
    },
    {
     "name": "stdout",
     "output_type": "stream",
     "text": [
      "Found 2 moderation labels.\n"
     ]
    },
    {
     "name": "stderr",
     "output_type": "stream",
     "text": [
      "INFO: Found 0 moderation labels in resized/PregnantNonSuggestive/dreamstimemaximum_283575797.jpg.\n",
      "INFO: Detecting suggestive content in resized/PregnantNonSuggestive/dreamstimemaximum_30888833.jpg...\n"
     ]
    },
    {
     "name": "stdout",
     "output_type": "stream",
     "text": [
      "Found 0 moderation labels.\n"
     ]
    },
    {
     "name": "stderr",
     "output_type": "stream",
     "text": [
      "INFO: Found 0 moderation labels in resized/PregnantNonSuggestive/dreamstimemaximum_30888833.jpg.\n",
      "INFO: Detecting suggestive content in resized/PregnantNonSuggestive/dreamstimemaximum_331310501.jpg...\n"
     ]
    },
    {
     "name": "stdout",
     "output_type": "stream",
     "text": [
      "Found 0 moderation labels.\n"
     ]
    },
    {
     "name": "stderr",
     "output_type": "stream",
     "text": [
      "INFO: Found 0 moderation labels in resized/PregnantNonSuggestive/dreamstimemaximum_331310501.jpg.\n",
      "INFO: Detecting suggestive content in resized/PregnantNonSuggestive/dreamstimemaximum_331310504.jpg...\n"
     ]
    },
    {
     "name": "stdout",
     "output_type": "stream",
     "text": [
      "Found 0 moderation labels.\n"
     ]
    },
    {
     "name": "stderr",
     "output_type": "stream",
     "text": [
      "INFO: Found 0 moderation labels in resized/PregnantNonSuggestive/dreamstimemaximum_331310504.jpg.\n",
      "INFO: Detecting suggestive content in resized/PregnantNonSuggestive/dreamstimemaximum_340787798.jpg...\n"
     ]
    },
    {
     "name": "stdout",
     "output_type": "stream",
     "text": [
      "Found 0 moderation labels.\n"
     ]
    },
    {
     "name": "stderr",
     "output_type": "stream",
     "text": [
      "INFO: Found 2 moderation labels in resized/PregnantNonSuggestive/dreamstimemaximum_340787798.jpg.\n",
      "INFO: Detecting suggestive content in resized/PregnantNonSuggestive/dreamstimemaximum_36640291.jpg...\n"
     ]
    },
    {
     "name": "stdout",
     "output_type": "stream",
     "text": [
      "Found 2 moderation labels.\n"
     ]
    },
    {
     "name": "stderr",
     "output_type": "stream",
     "text": [
      "INFO: Found 0 moderation labels in resized/PregnantNonSuggestive/dreamstimemaximum_36640291.jpg.\n",
      "INFO: Detecting suggestive content in resized/PregnantNonSuggestive/dreamstimemaximum_7490420.jpg...\n"
     ]
    },
    {
     "name": "stdout",
     "output_type": "stream",
     "text": [
      "Found 0 moderation labels.\n"
     ]
    },
    {
     "name": "stderr",
     "output_type": "stream",
     "text": [
      "INFO: Found 5 moderation labels in resized/PregnantNonSuggestive/dreamstimemaximum_7490420.jpg.\n",
      "INFO: Detecting suggestive content in resized/PregnantNonSuggestive/dreamstimemaximum_78918026.jpg...\n"
     ]
    },
    {
     "name": "stdout",
     "output_type": "stream",
     "text": [
      "Found 5 moderation labels.\n"
     ]
    },
    {
     "name": "stderr",
     "output_type": "stream",
     "text": [
      "INFO: Found 0 moderation labels in resized/PregnantNonSuggestive/dreamstimemaximum_78918026.jpg.\n",
      "INFO: Detecting suggestive content in resized/PregnantNonSuggestive/elias-vidal-aQtoPqs2VPg-unsplash.jpg...\n"
     ]
    },
    {
     "name": "stdout",
     "output_type": "stream",
     "text": [
      "Found 0 moderation labels.\n"
     ]
    },
    {
     "name": "stderr",
     "output_type": "stream",
     "text": [
      "INFO: Found 0 moderation labels in resized/PregnantNonSuggestive/elias-vidal-aQtoPqs2VPg-unsplash.jpg.\n",
      "INFO: Detecting suggestive content in resized/PregnantNonSuggestive/febe-vanermen-4DwPLYd7Mnc-unsplash.jpg...\n"
     ]
    },
    {
     "name": "stdout",
     "output_type": "stream",
     "text": [
      "Found 0 moderation labels.\n"
     ]
    },
    {
     "name": "stderr",
     "output_type": "stream",
     "text": [
      "INFO: Found 0 moderation labels in resized/PregnantNonSuggestive/febe-vanermen-4DwPLYd7Mnc-unsplash.jpg.\n",
      "INFO: Detecting suggestive content in resized/PregnantNonSuggestive/febe-vanermen-7kXSpnHZqmI-unsplash.jpg...\n"
     ]
    },
    {
     "name": "stdout",
     "output_type": "stream",
     "text": [
      "Found 0 moderation labels.\n"
     ]
    },
    {
     "name": "stderr",
     "output_type": "stream",
     "text": [
      "INFO: Found 0 moderation labels in resized/PregnantNonSuggestive/febe-vanermen-7kXSpnHZqmI-unsplash.jpg.\n",
      "INFO: Detecting suggestive content in resized/PregnantNonSuggestive/febe-vanermen-E2kIeFnVeGA-unsplash.jpg...\n"
     ]
    },
    {
     "name": "stdout",
     "output_type": "stream",
     "text": [
      "Found 0 moderation labels.\n"
     ]
    },
    {
     "name": "stderr",
     "output_type": "stream",
     "text": [
      "INFO: Found 0 moderation labels in resized/PregnantNonSuggestive/febe-vanermen-E2kIeFnVeGA-unsplash.jpg.\n",
      "INFO: Detecting suggestive content in resized/PregnantNonSuggestive/febe-vanermen-LMEnKujH3LI-unsplash.jpg...\n"
     ]
    },
    {
     "name": "stdout",
     "output_type": "stream",
     "text": [
      "Found 0 moderation labels.\n"
     ]
    },
    {
     "name": "stderr",
     "output_type": "stream",
     "text": [
      "INFO: Found 0 moderation labels in resized/PregnantNonSuggestive/febe-vanermen-LMEnKujH3LI-unsplash.jpg.\n",
      "INFO: Detecting suggestive content in resized/PregnantNonSuggestive/febe-vanermen-ZxBy3w9zFYQ-unsplash.jpg...\n"
     ]
    },
    {
     "name": "stdout",
     "output_type": "stream",
     "text": [
      "Found 0 moderation labels.\n"
     ]
    },
    {
     "name": "stderr",
     "output_type": "stream",
     "text": [
      "INFO: Found 0 moderation labels in resized/PregnantNonSuggestive/febe-vanermen-ZxBy3w9zFYQ-unsplash.jpg.\n",
      "INFO: Detecting suggestive content in resized/PregnantNonSuggestive/febe-vanermen-wSsdA9gzmXY-unsplash.jpg...\n"
     ]
    },
    {
     "name": "stdout",
     "output_type": "stream",
     "text": [
      "Found 0 moderation labels.\n"
     ]
    },
    {
     "name": "stderr",
     "output_type": "stream",
     "text": [
      "INFO: Found 0 moderation labels in resized/PregnantNonSuggestive/febe-vanermen-wSsdA9gzmXY-unsplash.jpg.\n",
      "INFO: Detecting suggestive content in resized/PregnantNonSuggestive/febe-vanermen-xJF8MF2lSiM-unsplash.jpg...\n"
     ]
    },
    {
     "name": "stdout",
     "output_type": "stream",
     "text": [
      "Found 0 moderation labels.\n"
     ]
    },
    {
     "name": "stderr",
     "output_type": "stream",
     "text": [
      "INFO: Found 0 moderation labels in resized/PregnantNonSuggestive/febe-vanermen-xJF8MF2lSiM-unsplash.jpg.\n",
      "INFO: Detecting suggestive content in resized/PregnantNonSuggestive/frankie-OCXzRZhsSNo-unsplash.jpg...\n"
     ]
    },
    {
     "name": "stdout",
     "output_type": "stream",
     "text": [
      "Found 0 moderation labels.\n"
     ]
    },
    {
     "name": "stderr",
     "output_type": "stream",
     "text": [
      "INFO: Found 2 moderation labels in resized/PregnantNonSuggestive/frankie-OCXzRZhsSNo-unsplash.jpg.\n",
      "INFO: Detecting suggestive content in resized/PregnantNonSuggestive/freestocks-ux53SGpRAHU-unsplash.jpg...\n"
     ]
    },
    {
     "name": "stdout",
     "output_type": "stream",
     "text": [
      "Found 2 moderation labels.\n"
     ]
    },
    {
     "name": "stderr",
     "output_type": "stream",
     "text": [
      "INFO: Found 0 moderation labels in resized/PregnantNonSuggestive/freestocks-ux53SGpRAHU-unsplash.jpg.\n",
      "INFO: Detecting suggestive content in resized/PregnantNonSuggestive/gaelle-lewyllie-1xTZSDTGjCo-unsplash.jpg...\n"
     ]
    },
    {
     "name": "stdout",
     "output_type": "stream",
     "text": [
      "Found 0 moderation labels.\n"
     ]
    },
    {
     "name": "stderr",
     "output_type": "stream",
     "text": [
      "INFO: Found 0 moderation labels in resized/PregnantNonSuggestive/gaelle-lewyllie-1xTZSDTGjCo-unsplash.jpg.\n",
      "INFO: Detecting suggestive content in resized/PregnantNonSuggestive/gian-gomez-ZnulzpqVb2E-unsplash.jpg...\n"
     ]
    },
    {
     "name": "stdout",
     "output_type": "stream",
     "text": [
      "Found 0 moderation labels.\n"
     ]
    },
    {
     "name": "stderr",
     "output_type": "stream",
     "text": [
      "INFO: Found 0 moderation labels in resized/PregnantNonSuggestive/gian-gomez-ZnulzpqVb2E-unsplash.jpg.\n",
      "INFO: Detecting suggestive content in resized/PregnantNonSuggestive/gilda-gonzalez-RXGNRoBKEEc-unsplash.jpg...\n"
     ]
    },
    {
     "name": "stdout",
     "output_type": "stream",
     "text": [
      "Found 0 moderation labels.\n"
     ]
    },
    {
     "name": "stderr",
     "output_type": "stream",
     "text": [
      "INFO: Found 0 moderation labels in resized/PregnantNonSuggestive/gilda-gonzalez-RXGNRoBKEEc-unsplash.jpg.\n",
      "INFO: Detecting suggestive content in resized/PregnantNonSuggestive/ignacio-campo-FKOjXAbJWlw-unsplash.jpg...\n"
     ]
    },
    {
     "name": "stdout",
     "output_type": "stream",
     "text": [
      "Found 0 moderation labels.\n"
     ]
    },
    {
     "name": "stderr",
     "output_type": "stream",
     "text": [
      "INFO: Found 0 moderation labels in resized/PregnantNonSuggestive/ignacio-campo-FKOjXAbJWlw-unsplash.jpg.\n",
      "INFO: Detecting suggestive content in resized/PregnantNonSuggestive/irina-rudnik-P-hfN4mH25k-unsplash.jpg...\n"
     ]
    },
    {
     "name": "stdout",
     "output_type": "stream",
     "text": [
      "Found 0 moderation labels.\n"
     ]
    },
    {
     "name": "stderr",
     "output_type": "stream",
     "text": [
      "INFO: Found 0 moderation labels in resized/PregnantNonSuggestive/irina-rudnik-P-hfN4mH25k-unsplash.jpg.\n",
      "INFO: Detecting suggestive content in resized/PregnantNonSuggestive/isabella-angelica-3jFGBzi3NT4-unsplash.jpg...\n"
     ]
    },
    {
     "name": "stdout",
     "output_type": "stream",
     "text": [
      "Found 0 moderation labels.\n"
     ]
    },
    {
     "name": "stderr",
     "output_type": "stream",
     "text": [
      "INFO: Found 0 moderation labels in resized/PregnantNonSuggestive/isabella-angelica-3jFGBzi3NT4-unsplash.jpg.\n",
      "INFO: Detecting suggestive content in resized/PregnantNonSuggestive/isabella-angelica-VpRoCJs_gqA-unsplash.jpg...\n"
     ]
    },
    {
     "name": "stdout",
     "output_type": "stream",
     "text": [
      "Found 0 moderation labels.\n"
     ]
    },
    {
     "name": "stderr",
     "output_type": "stream",
     "text": [
      "INFO: Found 5 moderation labels in resized/PregnantNonSuggestive/isabella-angelica-VpRoCJs_gqA-unsplash.jpg.\n",
      "INFO: Detecting suggestive content in resized/PregnantNonSuggestive/j-balla-photography-9Kuh1NZMszk-unsplash.jpg...\n"
     ]
    },
    {
     "name": "stdout",
     "output_type": "stream",
     "text": [
      "Found 5 moderation labels.\n"
     ]
    },
    {
     "name": "stderr",
     "output_type": "stream",
     "text": [
      "INFO: Found 0 moderation labels in resized/PregnantNonSuggestive/j-balla-photography-9Kuh1NZMszk-unsplash.jpg.\n",
      "INFO: Detecting suggestive content in resized/PregnantNonSuggestive/j-balla-photography-Ms1g0Kk37G8-unsplash.jpg...\n"
     ]
    },
    {
     "name": "stdout",
     "output_type": "stream",
     "text": [
      "Found 0 moderation labels.\n"
     ]
    },
    {
     "name": "stderr",
     "output_type": "stream",
     "text": [
      "INFO: Found 5 moderation labels in resized/PregnantNonSuggestive/j-balla-photography-Ms1g0Kk37G8-unsplash.jpg.\n",
      "INFO: Detecting suggestive content in resized/PregnantNonSuggestive/jan-canty-dF8jzk6GdQc-unsplash.jpg...\n"
     ]
    },
    {
     "name": "stdout",
     "output_type": "stream",
     "text": [
      "Found 5 moderation labels.\n"
     ]
    },
    {
     "name": "stderr",
     "output_type": "stream",
     "text": [
      "INFO: Found 5 moderation labels in resized/PregnantNonSuggestive/jan-canty-dF8jzk6GdQc-unsplash.jpg.\n",
      "INFO: Detecting suggestive content in resized/PregnantNonSuggestive/janko-ferlic-ZNVGL_Pcf74-unsplash.jpg...\n"
     ]
    },
    {
     "name": "stdout",
     "output_type": "stream",
     "text": [
      "Found 5 moderation labels.\n"
     ]
    },
    {
     "name": "stderr",
     "output_type": "stream",
     "text": [
      "INFO: Found 5 moderation labels in resized/PregnantNonSuggestive/janko-ferlic-ZNVGL_Pcf74-unsplash.jpg.\n",
      "INFO: Detecting suggestive content in resized/PregnantNonSuggestive/jernej-graj-E-T2nKRB9fQ-unsplash.jpg...\n"
     ]
    },
    {
     "name": "stdout",
     "output_type": "stream",
     "text": [
      "Found 5 moderation labels.\n"
     ]
    },
    {
     "name": "stderr",
     "output_type": "stream",
     "text": [
      "INFO: Found 0 moderation labels in resized/PregnantNonSuggestive/jernej-graj-E-T2nKRB9fQ-unsplash.jpg.\n",
      "INFO: Detecting suggestive content in resized/PregnantNonSuggestive/jernej-graj-WmsnqCK9Jzg-unsplash.jpg...\n"
     ]
    },
    {
     "name": "stdout",
     "output_type": "stream",
     "text": [
      "Found 0 moderation labels.\n"
     ]
    },
    {
     "name": "stderr",
     "output_type": "stream",
     "text": [
      "INFO: Found 2 moderation labels in resized/PregnantNonSuggestive/jernej-graj-WmsnqCK9Jzg-unsplash.jpg.\n",
      "INFO: Detecting suggestive content in resized/PregnantNonSuggestive/john-schnobrich-UdGQW7RzuUM-unsplash.jpg...\n"
     ]
    },
    {
     "name": "stdout",
     "output_type": "stream",
     "text": [
      "Found 2 moderation labels.\n"
     ]
    },
    {
     "name": "stderr",
     "output_type": "stream",
     "text": [
      "INFO: Found 0 moderation labels in resized/PregnantNonSuggestive/john-schnobrich-UdGQW7RzuUM-unsplash.jpg.\n",
      "INFO: Detecting suggestive content in resized/PregnantNonSuggestive/jonathan-borba-H-5leKmiGW8-unsplash.jpg...\n"
     ]
    },
    {
     "name": "stdout",
     "output_type": "stream",
     "text": [
      "Found 0 moderation labels.\n"
     ]
    },
    {
     "name": "stderr",
     "output_type": "stream",
     "text": [
      "INFO: Found 2 moderation labels in resized/PregnantNonSuggestive/jonathan-borba-H-5leKmiGW8-unsplash.jpg.\n",
      "INFO: Detecting suggestive content in resized/PregnantNonSuggestive/jonathan-borba-y61WgsFToRk-unsplash.jpg...\n"
     ]
    },
    {
     "name": "stdout",
     "output_type": "stream",
     "text": [
      "Found 2 moderation labels.\n"
     ]
    },
    {
     "name": "stderr",
     "output_type": "stream",
     "text": [
      "INFO: Found 5 moderation labels in resized/PregnantNonSuggestive/jonathan-borba-y61WgsFToRk-unsplash.jpg.\n",
      "INFO: Detecting suggestive content in resized/PregnantNonSuggestive/kateryna-hliznitsova-U89WOwxRRGI-unsplash.jpg...\n"
     ]
    },
    {
     "name": "stdout",
     "output_type": "stream",
     "text": [
      "Found 5 moderation labels.\n"
     ]
    },
    {
     "name": "stderr",
     "output_type": "stream",
     "text": [
      "INFO: Found 3 moderation labels in resized/PregnantNonSuggestive/kateryna-hliznitsova-U89WOwxRRGI-unsplash.jpg.\n",
      "INFO: Detecting suggestive content in resized/PregnantNonSuggestive/kateryna-hliznitsova-he2bmO_xAcs-unsplash.jpg...\n"
     ]
    },
    {
     "name": "stdout",
     "output_type": "stream",
     "text": [
      "Found 3 moderation labels.\n"
     ]
    },
    {
     "name": "stderr",
     "output_type": "stream",
     "text": [
      "INFO: Found 0 moderation labels in resized/PregnantNonSuggestive/kateryna-hliznitsova-he2bmO_xAcs-unsplash.jpg.\n",
      "INFO: Detecting suggestive content in resized/PregnantNonSuggestive/kayla-maurais-NIop1Wu314M-unsplash.jpg...\n"
     ]
    },
    {
     "name": "stdout",
     "output_type": "stream",
     "text": [
      "Found 0 moderation labels.\n"
     ]
    },
    {
     "name": "stderr",
     "output_type": "stream",
     "text": [
      "INFO: Found 0 moderation labels in resized/PregnantNonSuggestive/kayla-maurais-NIop1Wu314M-unsplash.jpg.\n",
      "INFO: Detecting suggestive content in resized/PregnantNonSuggestive/leticia-pelissari-cWrQHdPANnc-unsplash.jpg...\n"
     ]
    },
    {
     "name": "stdout",
     "output_type": "stream",
     "text": [
      "Found 0 moderation labels.\n"
     ]
    },
    {
     "name": "stderr",
     "output_type": "stream",
     "text": [
      "INFO: Found 2 moderation labels in resized/PregnantNonSuggestive/leticia-pelissari-cWrQHdPANnc-unsplash.jpg.\n",
      "INFO: Detecting suggestive content in resized/PregnantNonSuggestive/lo-lindo-zqDVOZ23v7I-unsplash.jpg...\n"
     ]
    },
    {
     "name": "stdout",
     "output_type": "stream",
     "text": [
      "Found 2 moderation labels.\n"
     ]
    },
    {
     "name": "stderr",
     "output_type": "stream",
     "text": [
      "INFO: Found 0 moderation labels in resized/PregnantNonSuggestive/lo-lindo-zqDVOZ23v7I-unsplash.jpg.\n",
      "INFO: Detecting suggestive content in resized/PregnantNonSuggestive/luana-azevedo-2_pncwO-AwY-unsplash.jpg...\n"
     ]
    },
    {
     "name": "stdout",
     "output_type": "stream",
     "text": [
      "Found 0 moderation labels.\n"
     ]
    },
    {
     "name": "stderr",
     "output_type": "stream",
     "text": [
      "INFO: Found 0 moderation labels in resized/PregnantNonSuggestive/luana-azevedo-2_pncwO-AwY-unsplash.jpg.\n",
      "INFO: Detecting suggestive content in resized/PregnantNonSuggestive/luana-azevedo-L7WQPRcpkAI-unsplash.jpg...\n"
     ]
    },
    {
     "name": "stdout",
     "output_type": "stream",
     "text": [
      "Found 0 moderation labels.\n"
     ]
    },
    {
     "name": "stderr",
     "output_type": "stream",
     "text": [
      "INFO: Found 2 moderation labels in resized/PregnantNonSuggestive/luana-azevedo-L7WQPRcpkAI-unsplash.jpg.\n",
      "INFO: Detecting suggestive content in resized/PregnantNonSuggestive/luana-azevedo-Mj1aVYsJIiM-unsplash.jpg...\n"
     ]
    },
    {
     "name": "stdout",
     "output_type": "stream",
     "text": [
      "Found 2 moderation labels.\n"
     ]
    },
    {
     "name": "stderr",
     "output_type": "stream",
     "text": [
      "INFO: Found 0 moderation labels in resized/PregnantNonSuggestive/luana-azevedo-Mj1aVYsJIiM-unsplash.jpg.\n",
      "INFO: Detecting suggestive content in resized/PregnantNonSuggestive/luana-azevedo-VAyfshNK4aI-unsplash.jpg...\n"
     ]
    },
    {
     "name": "stdout",
     "output_type": "stream",
     "text": [
      "Found 0 moderation labels.\n"
     ]
    },
    {
     "name": "stderr",
     "output_type": "stream",
     "text": [
      "INFO: Found 0 moderation labels in resized/PregnantNonSuggestive/luana-azevedo-VAyfshNK4aI-unsplash.jpg.\n",
      "INFO: Detecting suggestive content in resized/PregnantNonSuggestive/luana-azevedo-cPdHv2M8t4U-unsplash.jpg...\n"
     ]
    },
    {
     "name": "stdout",
     "output_type": "stream",
     "text": [
      "Found 0 moderation labels.\n"
     ]
    },
    {
     "name": "stderr",
     "output_type": "stream",
     "text": [
      "INFO: Found 0 moderation labels in resized/PregnantNonSuggestive/luana-azevedo-cPdHv2M8t4U-unsplash.jpg.\n",
      "INFO: Detecting suggestive content in resized/PregnantNonSuggestive/luana-azevedo-rq0ZsQdY1j4-unsplash.jpg...\n"
     ]
    },
    {
     "name": "stdout",
     "output_type": "stream",
     "text": [
      "Found 0 moderation labels.\n"
     ]
    },
    {
     "name": "stderr",
     "output_type": "stream",
     "text": [
      "INFO: Found 0 moderation labels in resized/PregnantNonSuggestive/luana-azevedo-rq0ZsQdY1j4-unsplash.jpg.\n",
      "INFO: Detecting suggestive content in resized/PregnantNonSuggestive/luana-azevedo-ydLRIwQEmbA-unsplash.jpg...\n"
     ]
    },
    {
     "name": "stdout",
     "output_type": "stream",
     "text": [
      "Found 0 moderation labels.\n"
     ]
    },
    {
     "name": "stderr",
     "output_type": "stream",
     "text": [
      "INFO: Found 0 moderation labels in resized/PregnantNonSuggestive/luana-azevedo-ydLRIwQEmbA-unsplash.jpg.\n",
      "INFO: Detecting suggestive content in resized/PregnantNonSuggestive/manuelthelensman-ndCahIqFWbA-unsplash.jpg...\n"
     ]
    },
    {
     "name": "stdout",
     "output_type": "stream",
     "text": [
      "Found 0 moderation labels.\n"
     ]
    },
    {
     "name": "stderr",
     "output_type": "stream",
     "text": [
      "INFO: Found 0 moderation labels in resized/PregnantNonSuggestive/manuelthelensman-ndCahIqFWbA-unsplash.jpg.\n",
      "INFO: Detecting suggestive content in resized/PregnantNonSuggestive/martin-baron-Fe04wpHIsy4-unsplash.jpg...\n"
     ]
    },
    {
     "name": "stdout",
     "output_type": "stream",
     "text": [
      "Found 0 moderation labels.\n"
     ]
    },
    {
     "name": "stderr",
     "output_type": "stream",
     "text": [
      "INFO: Found 0 moderation labels in resized/PregnantNonSuggestive/martin-baron-Fe04wpHIsy4-unsplash.jpg.\n",
      "INFO: Detecting suggestive content in resized/PregnantNonSuggestive/mateus-campos-felipe-k4CxGJg-nsA-unsplash.jpg...\n"
     ]
    },
    {
     "name": "stdout",
     "output_type": "stream",
     "text": [
      "Found 0 moderation labels.\n"
     ]
    },
    {
     "name": "stderr",
     "output_type": "stream",
     "text": [
      "INFO: Found 0 moderation labels in resized/PregnantNonSuggestive/mateus-campos-felipe-k4CxGJg-nsA-unsplash.jpg.\n",
      "INFO: Detecting suggestive content in resized/PregnantNonSuggestive/max-bohme-23QjOMIdLM4-unsplash.jpg...\n"
     ]
    },
    {
     "name": "stdout",
     "output_type": "stream",
     "text": [
      "Found 0 moderation labels.\n"
     ]
    },
    {
     "name": "stderr",
     "output_type": "stream",
     "text": [
      "INFO: Found 3 moderation labels in resized/PregnantNonSuggestive/max-bohme-23QjOMIdLM4-unsplash.jpg.\n",
      "INFO: Detecting suggestive content in resized/PregnantNonSuggestive/max-bohme-3j3of277RT0-unsplash.jpg...\n"
     ]
    },
    {
     "name": "stdout",
     "output_type": "stream",
     "text": [
      "Found 3 moderation labels.\n"
     ]
    },
    {
     "name": "stderr",
     "output_type": "stream",
     "text": [
      "INFO: Found 0 moderation labels in resized/PregnantNonSuggestive/max-bohme-3j3of277RT0-unsplash.jpg.\n",
      "INFO: Detecting suggestive content in resized/PregnantNonSuggestive/max-bohme-ZWgxlTjKQ4I-unsplash.jpg...\n"
     ]
    },
    {
     "name": "stdout",
     "output_type": "stream",
     "text": [
      "Found 0 moderation labels.\n"
     ]
    },
    {
     "name": "stderr",
     "output_type": "stream",
     "text": [
      "INFO: Found 0 moderation labels in resized/PregnantNonSuggestive/max-bohme-ZWgxlTjKQ4I-unsplash.jpg.\n",
      "INFO: Detecting suggestive content in resized/PregnantNonSuggestive/max-bohme-d4BvB5Yu5gg-unsplash.jpg...\n"
     ]
    },
    {
     "name": "stdout",
     "output_type": "stream",
     "text": [
      "Found 0 moderation labels.\n"
     ]
    },
    {
     "name": "stderr",
     "output_type": "stream",
     "text": [
      "INFO: Found 0 moderation labels in resized/PregnantNonSuggestive/max-bohme-d4BvB5Yu5gg-unsplash.jpg.\n",
      "INFO: Detecting suggestive content in resized/PregnantNonSuggestive/max-bohme-njk-YmGZ-EM-unsplash.jpg...\n"
     ]
    },
    {
     "name": "stdout",
     "output_type": "stream",
     "text": [
      "Found 0 moderation labels.\n"
     ]
    },
    {
     "name": "stderr",
     "output_type": "stream",
     "text": [
      "INFO: Found 0 moderation labels in resized/PregnantNonSuggestive/max-bohme-njk-YmGZ-EM-unsplash.jpg.\n",
      "INFO: Detecting suggestive content in resized/PregnantNonSuggestive/monika-kozub-Q_Avkw0mcfw-unsplash.jpg...\n"
     ]
    },
    {
     "name": "stdout",
     "output_type": "stream",
     "text": [
      "Found 0 moderation labels.\n"
     ]
    },
    {
     "name": "stderr",
     "output_type": "stream",
     "text": [
      "INFO: Found 5 moderation labels in resized/PregnantNonSuggestive/monika-kozub-Q_Avkw0mcfw-unsplash.jpg.\n",
      "INFO: Detecting suggestive content in resized/PregnantNonSuggestive/mother-of-wilde-QplvEsSATAU-unsplash.jpg...\n"
     ]
    },
    {
     "name": "stdout",
     "output_type": "stream",
     "text": [
      "Found 5 moderation labels.\n"
     ]
    },
    {
     "name": "stderr",
     "output_type": "stream",
     "text": [
      "INFO: Found 2 moderation labels in resized/PregnantNonSuggestive/mother-of-wilde-QplvEsSATAU-unsplash.jpg.\n",
      "INFO: Detecting suggestive content in resized/PregnantNonSuggestive/pelayo-arbues-Oz0yxfX9Z_Q-unsplash.jpg...\n"
     ]
    },
    {
     "name": "stdout",
     "output_type": "stream",
     "text": [
      "Found 2 moderation labels.\n"
     ]
    },
    {
     "name": "stderr",
     "output_type": "stream",
     "text": [
      "INFO: Found 0 moderation labels in resized/PregnantNonSuggestive/pelayo-arbues-Oz0yxfX9Z_Q-unsplash.jpg.\n",
      "INFO: Detecting suggestive content in resized/PregnantNonSuggestive/pelayo-arbues-gT5WUnWdnmI-unsplash.jpg...\n"
     ]
    },
    {
     "name": "stdout",
     "output_type": "stream",
     "text": [
      "Found 0 moderation labels.\n"
     ]
    },
    {
     "name": "stderr",
     "output_type": "stream",
     "text": [
      "INFO: Found 2 moderation labels in resized/PregnantNonSuggestive/pelayo-arbues-gT5WUnWdnmI-unsplash.jpg.\n",
      "INFO: Detecting suggestive content in resized/PregnantNonSuggestive/raspopova-marina-DoBuAVCg_Do-unsplash.jpg...\n"
     ]
    },
    {
     "name": "stdout",
     "output_type": "stream",
     "text": [
      "Found 2 moderation labels.\n"
     ]
    },
    {
     "name": "stderr",
     "output_type": "stream",
     "text": [
      "INFO: Found 0 moderation labels in resized/PregnantNonSuggestive/raspopova-marina-DoBuAVCg_Do-unsplash.jpg.\n",
      "INFO: Detecting suggestive content in resized/PregnantNonSuggestive/rene-porter-LagGwBSSElY-unsplash.jpg...\n"
     ]
    },
    {
     "name": "stdout",
     "output_type": "stream",
     "text": [
      "Found 0 moderation labels.\n"
     ]
    },
    {
     "name": "stderr",
     "output_type": "stream",
     "text": [
      "INFO: Found 0 moderation labels in resized/PregnantNonSuggestive/rene-porter-LagGwBSSElY-unsplash.jpg.\n",
      "INFO: Detecting suggestive content in resized/PregnantNonSuggestive/sarah-kranz-RX3f9gwPqQ4-unsplash.jpg...\n"
     ]
    },
    {
     "name": "stdout",
     "output_type": "stream",
     "text": [
      "Found 0 moderation labels.\n"
     ]
    },
    {
     "name": "stderr",
     "output_type": "stream",
     "text": [
      "INFO: Found 0 moderation labels in resized/PregnantNonSuggestive/sarah-kranz-RX3f9gwPqQ4-unsplash.jpg.\n",
      "INFO: Detecting suggestive content in resized/PregnantNonSuggestive/sasha-freemind-H2EO-vM0BNs-unsplash.jpg...\n"
     ]
    },
    {
     "name": "stdout",
     "output_type": "stream",
     "text": [
      "Found 0 moderation labels.\n"
     ]
    },
    {
     "name": "stderr",
     "output_type": "stream",
     "text": [
      "INFO: Found 0 moderation labels in resized/PregnantNonSuggestive/sasha-freemind-H2EO-vM0BNs-unsplash.jpg.\n",
      "INFO: Detecting suggestive content in resized/PregnantNonSuggestive/shelly-shell-if29-uf4N_Q-unsplash.jpg...\n"
     ]
    },
    {
     "name": "stdout",
     "output_type": "stream",
     "text": [
      "Found 0 moderation labels.\n"
     ]
    },
    {
     "name": "stderr",
     "output_type": "stream",
     "text": [
      "INFO: Found 0 moderation labels in resized/PregnantNonSuggestive/shelly-shell-if29-uf4N_Q-unsplash.jpg.\n",
      "INFO: Detecting suggestive content in resized/PregnantNonSuggestive/sierra-koder-18fVqLZ7Ghw-unsplash.jpg...\n"
     ]
    },
    {
     "name": "stdout",
     "output_type": "stream",
     "text": [
      "Found 0 moderation labels.\n"
     ]
    },
    {
     "name": "stderr",
     "output_type": "stream",
     "text": [
      "INFO: Found 0 moderation labels in resized/PregnantNonSuggestive/sierra-koder-18fVqLZ7Ghw-unsplash.jpg.\n",
      "INFO: Detecting suggestive content in resized/PregnantNonSuggestive/taisiia-stupak-9LO1MBSUZLA-unsplash.jpg...\n"
     ]
    },
    {
     "name": "stdout",
     "output_type": "stream",
     "text": [
      "Found 0 moderation labels.\n"
     ]
    },
    {
     "name": "stderr",
     "output_type": "stream",
     "text": [
      "INFO: Found 2 moderation labels in resized/PregnantNonSuggestive/taisiia-stupak-9LO1MBSUZLA-unsplash.jpg.\n",
      "INFO: Detecting suggestive content in resized/PregnantNonSuggestive/thiago-ferreira-HwFm1MNKzXg-unsplash.jpg...\n"
     ]
    },
    {
     "name": "stdout",
     "output_type": "stream",
     "text": [
      "Found 2 moderation labels.\n"
     ]
    },
    {
     "name": "stderr",
     "output_type": "stream",
     "text": [
      "INFO: Found 0 moderation labels in resized/PregnantNonSuggestive/thiago-ferreira-HwFm1MNKzXg-unsplash.jpg.\n",
      "INFO: Detecting suggestive content in resized/PregnantNonSuggestive/toa-heftiba-C-8uOz7GluA-unsplash.jpg...\n"
     ]
    },
    {
     "name": "stdout",
     "output_type": "stream",
     "text": [
      "Found 0 moderation labels.\n"
     ]
    },
    {
     "name": "stderr",
     "output_type": "stream",
     "text": [
      "INFO: Found 2 moderation labels in resized/PregnantNonSuggestive/toa-heftiba-C-8uOz7GluA-unsplash.jpg.\n",
      "INFO: Detecting suggestive content in resized/PregnantNonSuggestive/toa-heftiba-XLHMBQxfm0E-unsplash.jpg...\n"
     ]
    },
    {
     "name": "stdout",
     "output_type": "stream",
     "text": [
      "Found 2 moderation labels.\n"
     ]
    },
    {
     "name": "stderr",
     "output_type": "stream",
     "text": [
      "INFO: Found 0 moderation labels in resized/PregnantNonSuggestive/toa-heftiba-XLHMBQxfm0E-unsplash.jpg.\n",
      "INFO: Detecting suggestive content in resized/PregnantNonSuggestive/toa-heftiba-cHmKxSne48k-unsplash.jpg...\n"
     ]
    },
    {
     "name": "stdout",
     "output_type": "stream",
     "text": [
      "Found 0 moderation labels.\n"
     ]
    },
    {
     "name": "stderr",
     "output_type": "stream",
     "text": [
      "INFO: Found 0 moderation labels in resized/PregnantNonSuggestive/toa-heftiba-cHmKxSne48k-unsplash.jpg.\n",
      "INFO: Detecting suggestive content in resized/PregnantNonSuggestive/tony-luginsland-_TyXKm8W2BU-unsplash.jpg...\n"
     ]
    },
    {
     "name": "stdout",
     "output_type": "stream",
     "text": [
      "Found 0 moderation labels.\n"
     ]
    },
    {
     "name": "stderr",
     "output_type": "stream",
     "text": [
      "INFO: Found 0 moderation labels in resized/PregnantNonSuggestive/tony-luginsland-_TyXKm8W2BU-unsplash.jpg.\n",
      "INFO: Detecting suggestive content in resized/PregnantNonSuggestive/tony-luginsland-rqCP3-1Apas-unsplash.jpg...\n"
     ]
    },
    {
     "name": "stdout",
     "output_type": "stream",
     "text": [
      "Found 0 moderation labels.\n"
     ]
    },
    {
     "name": "stderr",
     "output_type": "stream",
     "text": [
      "INFO: Found 2 moderation labels in resized/PregnantNonSuggestive/tony-luginsland-rqCP3-1Apas-unsplash.jpg.\n",
      "INFO: Detecting suggestive content in resized/PregnantNonSuggestive/tracy-truhan-U5Jc1Cfz228-unsplash.jpg...\n"
     ]
    },
    {
     "name": "stdout",
     "output_type": "stream",
     "text": [
      "Found 2 moderation labels.\n"
     ]
    },
    {
     "name": "stderr",
     "output_type": "stream",
     "text": [
      "INFO: Found 0 moderation labels in resized/PregnantNonSuggestive/tracy-truhan-U5Jc1Cfz228-unsplash.jpg.\n",
      "INFO: Detecting suggestive content in resized/PregnantNonSuggestive/valeria-kodra-nhge54ZbyDU-unsplash.jpg...\n"
     ]
    },
    {
     "name": "stdout",
     "output_type": "stream",
     "text": [
      "Found 0 moderation labels.\n"
     ]
    },
    {
     "name": "stderr",
     "output_type": "stream",
     "text": [
      "INFO: Found 0 moderation labels in resized/PregnantNonSuggestive/valeria-kodra-nhge54ZbyDU-unsplash.jpg.\n",
      "INFO: Detecting suggestive content in resized/PregnantSuggestive/.DS_Store...\n"
     ]
    },
    {
     "name": "stdout",
     "output_type": "stream",
     "text": [
      "Found 0 moderation labels.\n"
     ]
    },
    {
     "name": "stderr",
     "output_type": "stream",
     "text": [
      "ERROR: Couldn't detect moderation labels in resized/PregnantSuggestive/.DS_Store. error: An error occurred (InvalidImageFormatException) when calling the DetectModerationLabels operation: Request has invalid image format\n",
      "Traceback (most recent call last):\n",
      "  File \"/Users/duncan/reliabl/labeling-demo/rekognition_image_detection.py\", line 187, in detect_moderation_labels\n",
      "    response = self.rekognition_client.detect_moderation_labels(\n",
      "               ^^^^^^^^^^^^^^^^^^^^^^^^^^^^^^^^^^^^^^^^^^^^^^^^^\n",
      "  File \"/Users/duncan/reliabl/labeling-demo/.venv/lib/python3.11/site-packages/botocore/client.py\", line 569, in _api_call\n",
      "    return self._make_api_call(operation_name, kwargs)\n",
      "           ^^^^^^^^^^^^^^^^^^^^^^^^^^^^^^^^^^^^^^^^^^^\n",
      "  File \"/Users/duncan/reliabl/labeling-demo/.venv/lib/python3.11/site-packages/botocore/client.py\", line 1023, in _make_api_call\n",
      "    raise error_class(parsed_response, operation_name)\n",
      "botocore.errorfactory.InvalidImageFormatException: An error occurred (InvalidImageFormatException) when calling the DetectModerationLabels operation: Request has invalid image format\n",
      "INFO: error for image resized/PregnantSuggestive/.DS_Store: An error occurred (InvalidImageFormatException) when calling the DetectModerationLabels operation: Request has invalid image format\n",
      "INFO: Detecting suggestive content in resized/PregnantSuggestive/042412_alessandra_gllery120424115945.jpg...\n",
      "ERROR: Couldn't detect moderation labels in resized/PregnantSuggestive/042412_alessandra_gllery120424115945.jpg. error: An error occurred (InvalidImageFormatException) when calling the DetectModerationLabels operation: Request has invalid image format\n",
      "Traceback (most recent call last):\n",
      "  File \"/Users/duncan/reliabl/labeling-demo/rekognition_image_detection.py\", line 187, in detect_moderation_labels\n",
      "    response = self.rekognition_client.detect_moderation_labels(\n",
      "               ^^^^^^^^^^^^^^^^^^^^^^^^^^^^^^^^^^^^^^^^^^^^^^^^^\n",
      "  File \"/Users/duncan/reliabl/labeling-demo/.venv/lib/python3.11/site-packages/botocore/client.py\", line 569, in _api_call\n",
      "    return self._make_api_call(operation_name, kwargs)\n",
      "           ^^^^^^^^^^^^^^^^^^^^^^^^^^^^^^^^^^^^^^^^^^^\n",
      "  File \"/Users/duncan/reliabl/labeling-demo/.venv/lib/python3.11/site-packages/botocore/client.py\", line 1023, in _make_api_call\n",
      "    raise error_class(parsed_response, operation_name)\n",
      "botocore.errorfactory.InvalidImageFormatException: An error occurred (InvalidImageFormatException) when calling the DetectModerationLabels operation: Request has invalid image format\n",
      "INFO: error for image resized/PregnantSuggestive/042412_alessandra_gllery120424115945.jpg: An error occurred (InvalidImageFormatException) when calling the DetectModerationLabels operation: Request has invalid image format\n",
      "INFO: Detecting suggestive content in resized/PregnantSuggestive/51688590897_8fd9f1ff3d_z.jpg...\n",
      "INFO: Found 5 moderation labels in resized/PregnantSuggestive/51688590897_8fd9f1ff3d_z.jpg.\n",
      "INFO: Detecting suggestive content in resized/PregnantSuggestive/64979795-dcb8.jpg...\n"
     ]
    },
    {
     "name": "stdout",
     "output_type": "stream",
     "text": [
      "Found 5 moderation labels.\n"
     ]
    },
    {
     "name": "stderr",
     "output_type": "stream",
     "text": [
      "ERROR: Couldn't detect moderation labels in resized/PregnantSuggestive/64979795-dcb8.jpg. error: An error occurred (InvalidImageFormatException) when calling the DetectModerationLabels operation: Request has invalid image format\n",
      "Traceback (most recent call last):\n",
      "  File \"/Users/duncan/reliabl/labeling-demo/rekognition_image_detection.py\", line 187, in detect_moderation_labels\n",
      "    response = self.rekognition_client.detect_moderation_labels(\n",
      "               ^^^^^^^^^^^^^^^^^^^^^^^^^^^^^^^^^^^^^^^^^^^^^^^^^\n",
      "  File \"/Users/duncan/reliabl/labeling-demo/.venv/lib/python3.11/site-packages/botocore/client.py\", line 569, in _api_call\n",
      "    return self._make_api_call(operation_name, kwargs)\n",
      "           ^^^^^^^^^^^^^^^^^^^^^^^^^^^^^^^^^^^^^^^^^^^\n",
      "  File \"/Users/duncan/reliabl/labeling-demo/.venv/lib/python3.11/site-packages/botocore/client.py\", line 1023, in _make_api_call\n",
      "    raise error_class(parsed_response, operation_name)\n",
      "botocore.errorfactory.InvalidImageFormatException: An error occurred (InvalidImageFormatException) when calling the DetectModerationLabels operation: Request has invalid image format\n",
      "INFO: error for image resized/PregnantSuggestive/64979795-dcb8.jpg: An error occurred (InvalidImageFormatException) when calling the DetectModerationLabels operation: Request has invalid image format\n",
      "INFO: Detecting suggestive content in resized/PregnantSuggestive/64ec8747-b405.jpg...\n",
      "ERROR: Couldn't detect moderation labels in resized/PregnantSuggestive/64ec8747-b405.jpg. error: An error occurred (InvalidImageFormatException) when calling the DetectModerationLabels operation: Request has invalid image format\n",
      "Traceback (most recent call last):\n",
      "  File \"/Users/duncan/reliabl/labeling-demo/rekognition_image_detection.py\", line 187, in detect_moderation_labels\n",
      "    response = self.rekognition_client.detect_moderation_labels(\n",
      "               ^^^^^^^^^^^^^^^^^^^^^^^^^^^^^^^^^^^^^^^^^^^^^^^^^\n",
      "  File \"/Users/duncan/reliabl/labeling-demo/.venv/lib/python3.11/site-packages/botocore/client.py\", line 569, in _api_call\n",
      "    return self._make_api_call(operation_name, kwargs)\n",
      "           ^^^^^^^^^^^^^^^^^^^^^^^^^^^^^^^^^^^^^^^^^^^\n",
      "  File \"/Users/duncan/reliabl/labeling-demo/.venv/lib/python3.11/site-packages/botocore/client.py\", line 1023, in _make_api_call\n",
      "    raise error_class(parsed_response, operation_name)\n",
      "botocore.errorfactory.InvalidImageFormatException: An error occurred (InvalidImageFormatException) when calling the DetectModerationLabels operation: Request has invalid image format\n",
      "INFO: error for image resized/PregnantSuggestive/64ec8747-b405.jpg: An error occurred (InvalidImageFormatException) when calling the DetectModerationLabels operation: Request has invalid image format\n",
      "INFO: Detecting suggestive content in resized/PregnantSuggestive/7-MB-Harm-Reduction-13-08-2020-Pregnant-woman-naked-iStock-1001410306.jpg...\n",
      "INFO: Found 3 moderation labels in resized/PregnantSuggestive/7-MB-Harm-Reduction-13-08-2020-Pregnant-woman-naked-iStock-1001410306.jpg.\n",
      "INFO: Detecting suggestive content in resized/PregnantSuggestive/Pregnancy_Pictures_140807_003.jpg...\n"
     ]
    },
    {
     "name": "stdout",
     "output_type": "stream",
     "text": [
      "Found 3 moderation labels.\n"
     ]
    },
    {
     "name": "stderr",
     "output_type": "stream",
     "text": [
      "INFO: Found 3 moderation labels in resized/PregnantSuggestive/Pregnancy_Pictures_140807_003.jpg.\n",
      "INFO: Detecting suggestive content in resized/PregnantSuggestive/aHR0cDovL28uYW9sY2RuLmNvbS9oc3Mvc3RvcmFnZS9taWRhcy81MzNlMTU2NzYyM2M2ZTJhNTY5MTdkMDdlZGNkMGEyZi8yMDUwMjI2MzAvZ2FsbGVyeS0xNDg4ODM3NDA5LWNpYXJhLTcuanBn.jpg...\n"
     ]
    },
    {
     "name": "stdout",
     "output_type": "stream",
     "text": [
      "Found 3 moderation labels.\n"
     ]
    },
    {
     "name": "stderr",
     "output_type": "stream",
     "text": [
      "INFO: Found 3 moderation labels in resized/PregnantSuggestive/aHR0cDovL28uYW9sY2RuLmNvbS9oc3Mvc3RvcmFnZS9taWRhcy81MzNlMTU2NzYyM2M2ZTJhNTY5MTdkMDdlZGNkMGEyZi8yMDUwMjI2MzAvZ2FsbGVyeS0xNDg4ODM3NDA5LWNpYXJhLTcuanBn.jpg.\n",
      "INFO: Detecting suggestive content in resized/PregnantSuggestive/alexander-krivitskiy-KtmF96NBO0Q-unsplash.jpg...\n"
     ]
    },
    {
     "name": "stdout",
     "output_type": "stream",
     "text": [
      "Found 3 moderation labels.\n"
     ]
    },
    {
     "name": "stderr",
     "output_type": "stream",
     "text": [
      "INFO: Found 3 moderation labels in resized/PregnantSuggestive/alexander-krivitskiy-KtmF96NBO0Q-unsplash.jpg.\n",
      "INFO: Detecting suggestive content in resized/PregnantSuggestive/andrea-bertozzini-Yv5NM-jlvy8-unsplash.jpg...\n"
     ]
    },
    {
     "name": "stdout",
     "output_type": "stream",
     "text": [
      "Found 3 moderation labels.\n"
     ]
    },
    {
     "name": "stderr",
     "output_type": "stream",
     "text": [
      "INFO: Found 2 moderation labels in resized/PregnantSuggestive/andrea-bertozzini-Yv5NM-jlvy8-unsplash.jpg.\n",
      "INFO: Detecting suggestive content in resized/PregnantSuggestive/andrea-brambila-CkJmahzEAUw-unsplash.jpg...\n"
     ]
    },
    {
     "name": "stdout",
     "output_type": "stream",
     "text": [
      "Found 2 moderation labels.\n"
     ]
    },
    {
     "name": "stderr",
     "output_type": "stream",
     "text": [
      "INFO: Found 0 moderation labels in resized/PregnantSuggestive/andrea-brambila-CkJmahzEAUw-unsplash.jpg.\n",
      "INFO: Detecting suggestive content in resized/PregnantSuggestive/beautiful-pregnancy-portraits-belly-photos.jpg...\n"
     ]
    },
    {
     "name": "stdout",
     "output_type": "stream",
     "text": [
      "Found 0 moderation labels.\n"
     ]
    },
    {
     "name": "stderr",
     "output_type": "stream",
     "text": [
      "INFO: Found 4 moderation labels in resized/PregnantSuggestive/beautiful-pregnancy-portraits-belly-photos.jpg.\n",
      "INFO: Detecting suggestive content in resized/PregnantSuggestive/brian-lawson-qAnz89hNEX8-unsplash.jpg...\n"
     ]
    },
    {
     "name": "stdout",
     "output_type": "stream",
     "text": [
      "Found 4 moderation labels.\n"
     ]
    },
    {
     "name": "stderr",
     "output_type": "stream",
     "text": [
      "INFO: Found 2 moderation labels in resized/PregnantSuggestive/brian-lawson-qAnz89hNEX8-unsplash.jpg.\n",
      "INFO: Detecting suggestive content in resized/PregnantSuggestive/dhwytbq-bbed31d4-d352-46ba-bce9-fc574e21463c.jpg...\n"
     ]
    },
    {
     "name": "stdout",
     "output_type": "stream",
     "text": [
      "Found 2 moderation labels.\n"
     ]
    },
    {
     "name": "stderr",
     "output_type": "stream",
     "text": [
      "INFO: Found 2 moderation labels in resized/PregnantSuggestive/dhwytbq-bbed31d4-d352-46ba-bce9-fc574e21463c.jpg.\n",
      "INFO: Detecting suggestive content in resized/PregnantSuggestive/dreamstime_m_143437542.jpg...\n"
     ]
    },
    {
     "name": "stdout",
     "output_type": "stream",
     "text": [
      "Found 2 moderation labels.\n"
     ]
    },
    {
     "name": "stderr",
     "output_type": "stream",
     "text": [
      "INFO: Found 5 moderation labels in resized/PregnantSuggestive/dreamstime_m_143437542.jpg.\n",
      "INFO: Detecting suggestive content in resized/PregnantSuggestive/dreamstime_m_146191781.jpg...\n"
     ]
    },
    {
     "name": "stdout",
     "output_type": "stream",
     "text": [
      "Found 5 moderation labels.\n"
     ]
    },
    {
     "name": "stderr",
     "output_type": "stream",
     "text": [
      "INFO: Found 2 moderation labels in resized/PregnantSuggestive/dreamstime_m_146191781.jpg.\n",
      "INFO: Detecting suggestive content in resized/PregnantSuggestive/dreamstime_m_179640101.jpg...\n"
     ]
    },
    {
     "name": "stdout",
     "output_type": "stream",
     "text": [
      "Found 2 moderation labels.\n"
     ]
    },
    {
     "name": "stderr",
     "output_type": "stream",
     "text": [
      "INFO: Found 4 moderation labels in resized/PregnantSuggestive/dreamstime_m_179640101.jpg.\n",
      "INFO: Detecting suggestive content in resized/PregnantSuggestive/dreamstime_m_328775612.jpg...\n"
     ]
    },
    {
     "name": "stdout",
     "output_type": "stream",
     "text": [
      "Found 4 moderation labels.\n"
     ]
    },
    {
     "name": "stderr",
     "output_type": "stream",
     "text": [
      "INFO: Found 5 moderation labels in resized/PregnantSuggestive/dreamstime_m_328775612.jpg.\n",
      "INFO: Detecting suggestive content in resized/PregnantSuggestive/dreamstime_m_328775614.jpg...\n"
     ]
    },
    {
     "name": "stdout",
     "output_type": "stream",
     "text": [
      "Found 5 moderation labels.\n"
     ]
    },
    {
     "name": "stderr",
     "output_type": "stream",
     "text": [
      "INFO: Found 5 moderation labels in resized/PregnantSuggestive/dreamstime_m_328775614.jpg.\n",
      "INFO: Detecting suggestive content in resized/PregnantSuggestive/dreamstimemaximum_119047280.jpg...\n"
     ]
    },
    {
     "name": "stdout",
     "output_type": "stream",
     "text": [
      "Found 5 moderation labels.\n"
     ]
    },
    {
     "name": "stderr",
     "output_type": "stream",
     "text": [
      "INFO: Found 5 moderation labels in resized/PregnantSuggestive/dreamstimemaximum_119047280.jpg.\n",
      "INFO: Detecting suggestive content in resized/PregnantSuggestive/dreamstimemaximum_145708180.jpg...\n"
     ]
    },
    {
     "name": "stdout",
     "output_type": "stream",
     "text": [
      "Found 5 moderation labels.\n"
     ]
    },
    {
     "name": "stderr",
     "output_type": "stream",
     "text": [
      "INFO: Found 5 moderation labels in resized/PregnantSuggestive/dreamstimemaximum_145708180.jpg.\n",
      "INFO: Detecting suggestive content in resized/PregnantSuggestive/dreamstimemaximum_145708256.jpg...\n"
     ]
    },
    {
     "name": "stdout",
     "output_type": "stream",
     "text": [
      "Found 5 moderation labels.\n"
     ]
    },
    {
     "name": "stderr",
     "output_type": "stream",
     "text": [
      "INFO: Found 5 moderation labels in resized/PregnantSuggestive/dreamstimemaximum_145708256.jpg.\n",
      "INFO: Detecting suggestive content in resized/PregnantSuggestive/dreamstimemaximum_145713360.jpg...\n"
     ]
    },
    {
     "name": "stdout",
     "output_type": "stream",
     "text": [
      "Found 5 moderation labels.\n"
     ]
    },
    {
     "name": "stderr",
     "output_type": "stream",
     "text": [
      "INFO: Found 5 moderation labels in resized/PregnantSuggestive/dreamstimemaximum_145713360.jpg.\n",
      "INFO: Detecting suggestive content in resized/PregnantSuggestive/dreamstimemaximum_180538970.jpg...\n"
     ]
    },
    {
     "name": "stdout",
     "output_type": "stream",
     "text": [
      "Found 5 moderation labels.\n"
     ]
    },
    {
     "name": "stderr",
     "output_type": "stream",
     "text": [
      "INFO: Found 0 moderation labels in resized/PregnantSuggestive/dreamstimemaximum_180538970.jpg.\n",
      "INFO: Detecting suggestive content in resized/PregnantSuggestive/dreamstimemaximum_180540265.jpg...\n"
     ]
    },
    {
     "name": "stdout",
     "output_type": "stream",
     "text": [
      "Found 0 moderation labels.\n"
     ]
    },
    {
     "name": "stderr",
     "output_type": "stream",
     "text": [
      "INFO: Found 0 moderation labels in resized/PregnantSuggestive/dreamstimemaximum_180540265.jpg.\n",
      "INFO: Detecting suggestive content in resized/PregnantSuggestive/dreamstimemaximum_180552083.jpg...\n"
     ]
    },
    {
     "name": "stdout",
     "output_type": "stream",
     "text": [
      "Found 0 moderation labels.\n"
     ]
    },
    {
     "name": "stderr",
     "output_type": "stream",
     "text": [
      "INFO: Found 8 moderation labels in resized/PregnantSuggestive/dreamstimemaximum_180552083.jpg.\n",
      "INFO: Detecting suggestive content in resized/PregnantSuggestive/dreamstimemaximum_215259609.jpg...\n"
     ]
    },
    {
     "name": "stdout",
     "output_type": "stream",
     "text": [
      "Found 8 moderation labels.\n"
     ]
    },
    {
     "name": "stderr",
     "output_type": "stream",
     "text": [
      "INFO: Found 2 moderation labels in resized/PregnantSuggestive/dreamstimemaximum_215259609.jpg.\n",
      "INFO: Detecting suggestive content in resized/PregnantSuggestive/dreamstimemaximum_216642664.jpg...\n"
     ]
    },
    {
     "name": "stdout",
     "output_type": "stream",
     "text": [
      "Found 2 moderation labels.\n"
     ]
    },
    {
     "name": "stderr",
     "output_type": "stream",
     "text": [
      "INFO: Found 5 moderation labels in resized/PregnantSuggestive/dreamstimemaximum_216642664.jpg.\n",
      "INFO: Detecting suggestive content in resized/PregnantSuggestive/dreamstimemaximum_216642668.jpg...\n"
     ]
    },
    {
     "name": "stdout",
     "output_type": "stream",
     "text": [
      "Found 5 moderation labels.\n"
     ]
    },
    {
     "name": "stderr",
     "output_type": "stream",
     "text": [
      "INFO: Found 3 moderation labels in resized/PregnantSuggestive/dreamstimemaximum_216642668.jpg.\n",
      "INFO: Detecting suggestive content in resized/PregnantSuggestive/dreamstimemaximum_216642691.jpg...\n"
     ]
    },
    {
     "name": "stdout",
     "output_type": "stream",
     "text": [
      "Found 3 moderation labels.\n"
     ]
    },
    {
     "name": "stderr",
     "output_type": "stream",
     "text": [
      "INFO: Found 5 moderation labels in resized/PregnantSuggestive/dreamstimemaximum_216642691.jpg.\n",
      "INFO: Detecting suggestive content in resized/PregnantSuggestive/dreamstimemaximum_216642705.jpg...\n"
     ]
    },
    {
     "name": "stdout",
     "output_type": "stream",
     "text": [
      "Found 5 moderation labels.\n"
     ]
    },
    {
     "name": "stderr",
     "output_type": "stream",
     "text": [
      "INFO: Found 5 moderation labels in resized/PregnantSuggestive/dreamstimemaximum_216642705.jpg.\n",
      "INFO: Detecting suggestive content in resized/PregnantSuggestive/dreamstimemaximum_237018219.jpg...\n"
     ]
    },
    {
     "name": "stdout",
     "output_type": "stream",
     "text": [
      "Found 5 moderation labels.\n"
     ]
    },
    {
     "name": "stderr",
     "output_type": "stream",
     "text": [
      "INFO: Found 5 moderation labels in resized/PregnantSuggestive/dreamstimemaximum_237018219.jpg.\n",
      "INFO: Detecting suggestive content in resized/PregnantSuggestive/dreamstimemaximum_237018252.jpg...\n"
     ]
    },
    {
     "name": "stdout",
     "output_type": "stream",
     "text": [
      "Found 5 moderation labels.\n"
     ]
    },
    {
     "name": "stderr",
     "output_type": "stream",
     "text": [
      "INFO: Found 9 moderation labels in resized/PregnantSuggestive/dreamstimemaximum_237018252.jpg.\n",
      "INFO: Detecting suggestive content in resized/PregnantSuggestive/dreamstimemaximum_237018648.jpg...\n"
     ]
    },
    {
     "name": "stdout",
     "output_type": "stream",
     "text": [
      "Found 9 moderation labels.\n"
     ]
    },
    {
     "name": "stderr",
     "output_type": "stream",
     "text": [
      "INFO: Found 5 moderation labels in resized/PregnantSuggestive/dreamstimemaximum_237018648.jpg.\n",
      "INFO: Detecting suggestive content in resized/PregnantSuggestive/dreamstimemaximum_243925236.jpg...\n"
     ]
    },
    {
     "name": "stdout",
     "output_type": "stream",
     "text": [
      "Found 5 moderation labels.\n"
     ]
    },
    {
     "name": "stderr",
     "output_type": "stream",
     "text": [
      "INFO: Found 3 moderation labels in resized/PregnantSuggestive/dreamstimemaximum_243925236.jpg.\n",
      "INFO: Detecting suggestive content in resized/PregnantSuggestive/dreamstimemaximum_245024206.jpg...\n"
     ]
    },
    {
     "name": "stdout",
     "output_type": "stream",
     "text": [
      "Found 3 moderation labels.\n"
     ]
    },
    {
     "name": "stderr",
     "output_type": "stream",
     "text": [
      "INFO: Found 2 moderation labels in resized/PregnantSuggestive/dreamstimemaximum_245024206.jpg.\n",
      "INFO: Detecting suggestive content in resized/PregnantSuggestive/dreamstimemaximum_245024224.jpg...\n"
     ]
    },
    {
     "name": "stdout",
     "output_type": "stream",
     "text": [
      "Found 2 moderation labels.\n"
     ]
    },
    {
     "name": "stderr",
     "output_type": "stream",
     "text": [
      "INFO: Found 5 moderation labels in resized/PregnantSuggestive/dreamstimemaximum_245024224.jpg.\n",
      "INFO: Detecting suggestive content in resized/PregnantSuggestive/dreamstimemaximum_245024229.jpg...\n"
     ]
    },
    {
     "name": "stdout",
     "output_type": "stream",
     "text": [
      "Found 5 moderation labels.\n"
     ]
    },
    {
     "name": "stderr",
     "output_type": "stream",
     "text": [
      "INFO: Found 5 moderation labels in resized/PregnantSuggestive/dreamstimemaximum_245024229.jpg.\n",
      "INFO: Detecting suggestive content in resized/PregnantSuggestive/dreamstimemaximum_245024234.jpg...\n"
     ]
    },
    {
     "name": "stdout",
     "output_type": "stream",
     "text": [
      "Found 5 moderation labels.\n"
     ]
    },
    {
     "name": "stderr",
     "output_type": "stream",
     "text": [
      "INFO: Found 5 moderation labels in resized/PregnantSuggestive/dreamstimemaximum_245024234.jpg.\n",
      "INFO: Detecting suggestive content in resized/PregnantSuggestive/dreamstimemaximum_250938011.jpg...\n"
     ]
    },
    {
     "name": "stdout",
     "output_type": "stream",
     "text": [
      "Found 5 moderation labels.\n"
     ]
    },
    {
     "name": "stderr",
     "output_type": "stream",
     "text": [
      "INFO: Found 2 moderation labels in resized/PregnantSuggestive/dreamstimemaximum_250938011.jpg.\n",
      "INFO: Detecting suggestive content in resized/PregnantSuggestive/dreamstimemaximum_252919149.jpg...\n"
     ]
    },
    {
     "name": "stdout",
     "output_type": "stream",
     "text": [
      "Found 2 moderation labels.\n"
     ]
    },
    {
     "name": "stderr",
     "output_type": "stream",
     "text": [
      "INFO: Found 0 moderation labels in resized/PregnantSuggestive/dreamstimemaximum_252919149.jpg.\n",
      "INFO: Detecting suggestive content in resized/PregnantSuggestive/dreamstimemaximum_253857570.jpg...\n"
     ]
    },
    {
     "name": "stdout",
     "output_type": "stream",
     "text": [
      "Found 0 moderation labels.\n"
     ]
    },
    {
     "name": "stderr",
     "output_type": "stream",
     "text": [
      "INFO: Found 5 moderation labels in resized/PregnantSuggestive/dreamstimemaximum_253857570.jpg.\n",
      "INFO: Detecting suggestive content in resized/PregnantSuggestive/gallery-1485745658-sexypregnant.jpg...\n"
     ]
    },
    {
     "name": "stdout",
     "output_type": "stream",
     "text": [
      "Found 5 moderation labels.\n"
     ]
    },
    {
     "name": "stderr",
     "output_type": "stream",
     "text": [
      "INFO: Found 0 moderation labels in resized/PregnantSuggestive/gallery-1485745658-sexypregnant.jpg.\n",
      "INFO: Detecting suggestive content in resized/PregnantSuggestive/hotmilk-warrior-nursing-bra-jan-2024.jpg...\n"
     ]
    },
    {
     "name": "stdout",
     "output_type": "stream",
     "text": [
      "Found 0 moderation labels.\n"
     ]
    },
    {
     "name": "stderr",
     "output_type": "stream",
     "text": [
      "INFO: Found 2 moderation labels in resized/PregnantSuggestive/hotmilk-warrior-nursing-bra-jan-2024.jpg.\n",
      "INFO: Detecting suggestive content in resized/PregnantSuggestive/images-2.jpg...\n"
     ]
    },
    {
     "name": "stdout",
     "output_type": "stream",
     "text": [
      "Found 2 moderation labels.\n"
     ]
    },
    {
     "name": "stderr",
     "output_type": "stream",
     "text": [
      "INFO: Found 5 moderation labels in resized/PregnantSuggestive/images-2.jpg.\n",
      "INFO: Detecting suggestive content in resized/PregnantSuggestive/isabela-martins-qBTx7REaI3U-unsplash.jpg...\n"
     ]
    },
    {
     "name": "stdout",
     "output_type": "stream",
     "text": [
      "Found 5 moderation labels.\n"
     ]
    },
    {
     "name": "stderr",
     "output_type": "stream",
     "text": [
      "INFO: Found 3 moderation labels in resized/PregnantSuggestive/isabela-martins-qBTx7REaI3U-unsplash.jpg.\n",
      "INFO: Detecting suggestive content in resized/PregnantSuggestive/janko-ferlic-6XOrDwooFDU-unsplash.jpg...\n"
     ]
    },
    {
     "name": "stdout",
     "output_type": "stream",
     "text": [
      "Found 3 moderation labels.\n"
     ]
    },
    {
     "name": "stderr",
     "output_type": "stream",
     "text": [
      "INFO: Found 5 moderation labels in resized/PregnantSuggestive/janko-ferlic-6XOrDwooFDU-unsplash.jpg.\n",
      "INFO: Detecting suggestive content in resized/PregnantSuggestive/lm-rihanna-lingerie-baby-bump-COMP.jpg...\n"
     ]
    },
    {
     "name": "stdout",
     "output_type": "stream",
     "text": [
      "Found 5 moderation labels.\n"
     ]
    },
    {
     "name": "stderr",
     "output_type": "stream",
     "text": [
      "ERROR: Couldn't detect moderation labels in resized/PregnantSuggestive/lm-rihanna-lingerie-baby-bump-COMP.jpg. error: An error occurred (InvalidImageFormatException) when calling the DetectModerationLabels operation: Request has invalid image format\n",
      "Traceback (most recent call last):\n",
      "  File \"/Users/duncan/reliabl/labeling-demo/rekognition_image_detection.py\", line 187, in detect_moderation_labels\n",
      "    response = self.rekognition_client.detect_moderation_labels(\n",
      "               ^^^^^^^^^^^^^^^^^^^^^^^^^^^^^^^^^^^^^^^^^^^^^^^^^\n",
      "  File \"/Users/duncan/reliabl/labeling-demo/.venv/lib/python3.11/site-packages/botocore/client.py\", line 569, in _api_call\n",
      "    return self._make_api_call(operation_name, kwargs)\n",
      "           ^^^^^^^^^^^^^^^^^^^^^^^^^^^^^^^^^^^^^^^^^^^\n",
      "  File \"/Users/duncan/reliabl/labeling-demo/.venv/lib/python3.11/site-packages/botocore/client.py\", line 1023, in _make_api_call\n",
      "    raise error_class(parsed_response, operation_name)\n",
      "botocore.errorfactory.InvalidImageFormatException: An error occurred (InvalidImageFormatException) when calling the DetectModerationLabels operation: Request has invalid image format\n",
      "INFO: error for image resized/PregnantSuggestive/lm-rihanna-lingerie-baby-bump-COMP.jpg: An error occurred (InvalidImageFormatException) when calling the DetectModerationLabels operation: Request has invalid image format\n",
      "INFO: Detecting suggestive content in resized/PregnantSuggestive/max-bohme-HFYhtezULRI-unsplash.jpg...\n",
      "INFO: Found 5 moderation labels in resized/PregnantSuggestive/max-bohme-HFYhtezULRI-unsplash.jpg.\n",
      "INFO: Detecting suggestive content in resized/PregnantSuggestive/o-MATERNITY-PHOTOS-570.jpg...\n"
     ]
    },
    {
     "name": "stdout",
     "output_type": "stream",
     "text": [
      "Found 5 moderation labels.\n"
     ]
    },
    {
     "name": "stderr",
     "output_type": "stream",
     "text": [
      "INFO: Found 3 moderation labels in resized/PregnantSuggestive/o-MATERNITY-PHOTOS-570.jpg.\n",
      "INFO: Detecting suggestive content in resized/PregnantSuggestive/pelayo-arbues-t0QCLo-Zwh0-unsplash(1).jpg...\n"
     ]
    },
    {
     "name": "stdout",
     "output_type": "stream",
     "text": [
      "Found 3 moderation labels.\n"
     ]
    },
    {
     "name": "stderr",
     "output_type": "stream",
     "text": [
      "INFO: Found 5 moderation labels in resized/PregnantSuggestive/pelayo-arbues-t0QCLo-Zwh0-unsplash(1).jpg.\n",
      "INFO: Detecting suggestive content in resized/PregnantSuggestive/sexy-pregnant-anita-lorenz.jpg...\n"
     ]
    },
    {
     "name": "stdout",
     "output_type": "stream",
     "text": [
      "Found 5 moderation labels.\n"
     ]
    },
    {
     "name": "stderr",
     "output_type": "stream",
     "text": [
      "INFO: Found 6 moderation labels in resized/PregnantSuggestive/sexy-pregnant-anita-lorenz.jpg.\n",
      "INFO: Detecting suggestive content in resized/ReproductiveHealth/dreamstimemaximum_130418430.jpg...\n"
     ]
    },
    {
     "name": "stdout",
     "output_type": "stream",
     "text": [
      "Found 6 moderation labels.\n"
     ]
    },
    {
     "name": "stderr",
     "output_type": "stream",
     "text": [
      "INFO: Found 0 moderation labels in resized/ReproductiveHealth/dreamstimemaximum_130418430.jpg.\n",
      "INFO: Detecting suggestive content in resized/ReproductiveHealth/dreamstimemaximum_133657049.jpg...\n"
     ]
    },
    {
     "name": "stdout",
     "output_type": "stream",
     "text": [
      "Found 0 moderation labels.\n"
     ]
    },
    {
     "name": "stderr",
     "output_type": "stream",
     "text": [
      "INFO: Found 2 moderation labels in resized/ReproductiveHealth/dreamstimemaximum_133657049.jpg.\n",
      "INFO: Detecting suggestive content in resized/ReproductiveHealth/dreamstimemaximum_133657103.jpg...\n"
     ]
    },
    {
     "name": "stdout",
     "output_type": "stream",
     "text": [
      "Found 2 moderation labels.\n"
     ]
    },
    {
     "name": "stderr",
     "output_type": "stream",
     "text": [
      "INFO: Found 2 moderation labels in resized/ReproductiveHealth/dreamstimemaximum_133657103.jpg.\n",
      "INFO: Detecting suggestive content in resized/ReproductiveHealth/dreamstimemaximum_161360590.jpg...\n"
     ]
    },
    {
     "name": "stdout",
     "output_type": "stream",
     "text": [
      "Found 2 moderation labels.\n"
     ]
    },
    {
     "name": "stderr",
     "output_type": "stream",
     "text": [
      "INFO: Found 2 moderation labels in resized/ReproductiveHealth/dreamstimemaximum_161360590.jpg.\n",
      "INFO: Detecting suggestive content in resized/ReproductiveHealth/dreamstimemaximum_17944071.jpg...\n"
     ]
    },
    {
     "name": "stdout",
     "output_type": "stream",
     "text": [
      "Found 2 moderation labels.\n"
     ]
    },
    {
     "name": "stderr",
     "output_type": "stream",
     "text": [
      "INFO: Found 0 moderation labels in resized/ReproductiveHealth/dreamstimemaximum_17944071.jpg.\n",
      "INFO: Detecting suggestive content in resized/ReproductiveHealth/dreamstimemaximum_27770157.jpg...\n"
     ]
    },
    {
     "name": "stdout",
     "output_type": "stream",
     "text": [
      "Found 0 moderation labels.\n"
     ]
    },
    {
     "name": "stderr",
     "output_type": "stream",
     "text": [
      "INFO: Found 3 moderation labels in resized/ReproductiveHealth/dreamstimemaximum_27770157.jpg.\n",
      "INFO: Detecting suggestive content in resized/ReproductiveHealth/dreamstimemaximum_31050559.jpg...\n"
     ]
    },
    {
     "name": "stdout",
     "output_type": "stream",
     "text": [
      "Found 3 moderation labels.\n"
     ]
    },
    {
     "name": "stderr",
     "output_type": "stream",
     "text": [
      "INFO: Found 0 moderation labels in resized/ReproductiveHealth/dreamstimemaximum_31050559.jpg.\n",
      "INFO: Detecting suggestive content in resized/ReproductiveHealth/dreamstimemaximum_31834984.jpg...\n"
     ]
    },
    {
     "name": "stdout",
     "output_type": "stream",
     "text": [
      "Found 0 moderation labels.\n"
     ]
    },
    {
     "name": "stderr",
     "output_type": "stream",
     "text": [
      "INFO: Found 0 moderation labels in resized/ReproductiveHealth/dreamstimemaximum_31834984.jpg.\n",
      "INFO: Detecting suggestive content in resized/ReproductiveHealth/dreamstimemaximum_45400686.jpg...\n"
     ]
    },
    {
     "name": "stdout",
     "output_type": "stream",
     "text": [
      "Found 0 moderation labels.\n"
     ]
    },
    {
     "name": "stderr",
     "output_type": "stream",
     "text": [
      "INFO: Found 0 moderation labels in resized/ReproductiveHealth/dreamstimemaximum_45400686.jpg.\n",
      "INFO: Detecting suggestive content in resized/Suggestive/9df32f5aa2e924d148d7e1a42e03ea8e.jpg...\n"
     ]
    },
    {
     "name": "stdout",
     "output_type": "stream",
     "text": [
      "Found 0 moderation labels.\n"
     ]
    },
    {
     "name": "stderr",
     "output_type": "stream",
     "text": [
      "INFO: Found 5 moderation labels in resized/Suggestive/9df32f5aa2e924d148d7e1a42e03ea8e.jpg.\n",
      "INFO: Detecting suggestive content in resized/Suggestive/dreamstimemaximum_104089841.jpg...\n"
     ]
    },
    {
     "name": "stdout",
     "output_type": "stream",
     "text": [
      "Found 5 moderation labels.\n"
     ]
    },
    {
     "name": "stderr",
     "output_type": "stream",
     "text": [
      "INFO: Found 5 moderation labels in resized/Suggestive/dreamstimemaximum_104089841.jpg.\n",
      "INFO: Detecting suggestive content in resized/Suggestive/dreamstimemaximum_113797033(1).jpg...\n"
     ]
    },
    {
     "name": "stdout",
     "output_type": "stream",
     "text": [
      "Found 5 moderation labels.\n"
     ]
    },
    {
     "name": "stderr",
     "output_type": "stream",
     "text": [
      "INFO: Found 5 moderation labels in resized/Suggestive/dreamstimemaximum_113797033(1).jpg.\n",
      "INFO: Detecting suggestive content in resized/Suggestive/dreamstimemaximum_113797033.jpg...\n"
     ]
    },
    {
     "name": "stdout",
     "output_type": "stream",
     "text": [
      "Found 5 moderation labels.\n"
     ]
    },
    {
     "name": "stderr",
     "output_type": "stream",
     "text": [
      "INFO: Found 5 moderation labels in resized/Suggestive/dreamstimemaximum_113797033.jpg.\n",
      "INFO: Detecting suggestive content in resized/Suggestive/dreamstimemaximum_124998759.jpg...\n"
     ]
    },
    {
     "name": "stdout",
     "output_type": "stream",
     "text": [
      "Found 5 moderation labels.\n"
     ]
    },
    {
     "name": "stderr",
     "output_type": "stream",
     "text": [
      "INFO: Found 0 moderation labels in resized/Suggestive/dreamstimemaximum_124998759.jpg.\n",
      "INFO: Detecting suggestive content in resized/Suggestive/dreamstimemaximum_140720311.jpg...\n"
     ]
    },
    {
     "name": "stdout",
     "output_type": "stream",
     "text": [
      "Found 0 moderation labels.\n"
     ]
    },
    {
     "name": "stderr",
     "output_type": "stream",
     "text": [
      "INFO: Found 3 moderation labels in resized/Suggestive/dreamstimemaximum_140720311.jpg.\n",
      "INFO: Detecting suggestive content in resized/Suggestive/dreamstimemaximum_150484592.jpg...\n"
     ]
    },
    {
     "name": "stdout",
     "output_type": "stream",
     "text": [
      "Found 3 moderation labels.\n"
     ]
    },
    {
     "name": "stderr",
     "output_type": "stream",
     "text": [
      "INFO: Found 5 moderation labels in resized/Suggestive/dreamstimemaximum_150484592.jpg.\n",
      "INFO: Detecting suggestive content in resized/Suggestive/dreamstimemaximum_194102913.jpg...\n"
     ]
    },
    {
     "name": "stdout",
     "output_type": "stream",
     "text": [
      "Found 5 moderation labels.\n"
     ]
    },
    {
     "name": "stderr",
     "output_type": "stream",
     "text": [
      "INFO: Found 5 moderation labels in resized/Suggestive/dreamstimemaximum_194102913.jpg.\n",
      "INFO: Detecting suggestive content in resized/Suggestive/dreamstimemaximum_194172586.jpg...\n"
     ]
    },
    {
     "name": "stdout",
     "output_type": "stream",
     "text": [
      "Found 5 moderation labels.\n"
     ]
    },
    {
     "name": "stderr",
     "output_type": "stream",
     "text": [
      "INFO: Found 5 moderation labels in resized/Suggestive/dreamstimemaximum_194172586.jpg.\n",
      "INFO: Detecting suggestive content in resized/Suggestive/dreamstimemaximum_196124562.jpg...\n"
     ]
    },
    {
     "name": "stdout",
     "output_type": "stream",
     "text": [
      "Found 5 moderation labels.\n"
     ]
    },
    {
     "name": "stderr",
     "output_type": "stream",
     "text": [
      "INFO: Found 5 moderation labels in resized/Suggestive/dreamstimemaximum_196124562.jpg.\n",
      "INFO: Detecting suggestive content in resized/Suggestive/dreamstimemaximum_25493792.jpg...\n"
     ]
    },
    {
     "name": "stdout",
     "output_type": "stream",
     "text": [
      "Found 5 moderation labels.\n"
     ]
    },
    {
     "name": "stderr",
     "output_type": "stream",
     "text": [
      "INFO: Found 0 moderation labels in resized/Suggestive/dreamstimemaximum_25493792.jpg.\n",
      "INFO: Detecting suggestive content in resized/Suggestive/dreamstimemaximum_329846046.jpg...\n"
     ]
    },
    {
     "name": "stdout",
     "output_type": "stream",
     "text": [
      "Found 0 moderation labels.\n"
     ]
    },
    {
     "name": "stderr",
     "output_type": "stream",
     "text": [
      "INFO: Found 2 moderation labels in resized/Suggestive/dreamstimemaximum_329846046.jpg.\n",
      "INFO: Detecting suggestive content in resized/Suggestive/dreamstimemaximum_332083852.jpg...\n"
     ]
    },
    {
     "name": "stdout",
     "output_type": "stream",
     "text": [
      "Found 2 moderation labels.\n"
     ]
    },
    {
     "name": "stderr",
     "output_type": "stream",
     "text": [
      "INFO: Found 5 moderation labels in resized/Suggestive/dreamstimemaximum_332083852.jpg.\n",
      "INFO: Detecting suggestive content in resized/Suggestive/dreamstimemaximum_332083978.jpg...\n"
     ]
    },
    {
     "name": "stdout",
     "output_type": "stream",
     "text": [
      "Found 5 moderation labels.\n"
     ]
    },
    {
     "name": "stderr",
     "output_type": "stream",
     "text": [
      "INFO: Found 5 moderation labels in resized/Suggestive/dreamstimemaximum_332083978.jpg.\n",
      "INFO: Detecting suggestive content in resized/Suggestive/dreamstimemaximum_332084051.jpg...\n"
     ]
    },
    {
     "name": "stdout",
     "output_type": "stream",
     "text": [
      "Found 5 moderation labels.\n"
     ]
    },
    {
     "name": "stderr",
     "output_type": "stream",
     "text": [
      "INFO: Found 5 moderation labels in resized/Suggestive/dreamstimemaximum_332084051.jpg.\n",
      "INFO: Detecting suggestive content in resized/Suggestive/dreamstimemaximum_333708655.jpg...\n"
     ]
    },
    {
     "name": "stdout",
     "output_type": "stream",
     "text": [
      "Found 5 moderation labels.\n"
     ]
    },
    {
     "name": "stderr",
     "output_type": "stream",
     "text": [
      "INFO: Found 5 moderation labels in resized/Suggestive/dreamstimemaximum_333708655.jpg.\n",
      "INFO: Detecting suggestive content in resized/Suggestive/dreamstimemaximum_35583428.jpg...\n"
     ]
    },
    {
     "name": "stdout",
     "output_type": "stream",
     "text": [
      "Found 5 moderation labels.\n"
     ]
    },
    {
     "name": "stderr",
     "output_type": "stream",
     "text": [
      "INFO: Found 0 moderation labels in resized/Suggestive/dreamstimemaximum_35583428.jpg.\n",
      "INFO: Detecting suggestive content in resized/Suggestive/dreamstimemaximum_54361287.jpg...\n"
     ]
    },
    {
     "name": "stdout",
     "output_type": "stream",
     "text": [
      "Found 0 moderation labels.\n"
     ]
    },
    {
     "name": "stderr",
     "output_type": "stream",
     "text": [
      "INFO: Found 5 moderation labels in resized/Suggestive/dreamstimemaximum_54361287.jpg.\n",
      "INFO: Detecting suggestive content in resized/Suggestive/dreamstimemaximum_95400104.jpg...\n"
     ]
    },
    {
     "name": "stdout",
     "output_type": "stream",
     "text": [
      "Found 5 moderation labels.\n"
     ]
    },
    {
     "name": "stderr",
     "output_type": "stream",
     "text": [
      "INFO: Found 5 moderation labels in resized/Suggestive/dreamstimemaximum_95400104.jpg.\n",
      "INFO: Detecting suggestive content in resized/Suggestive/dreamstimemaximum_9601220.jpg...\n"
     ]
    },
    {
     "name": "stdout",
     "output_type": "stream",
     "text": [
      "Found 5 moderation labels.\n"
     ]
    },
    {
     "name": "stderr",
     "output_type": "stream",
     "text": [
      "INFO: Found 3 moderation labels in resized/Suggestive/dreamstimemaximum_9601220.jpg.\n",
      "INFO: Detecting suggestive content in resized/Suggestive/dreamstimemaximum_96835820.jpg...\n"
     ]
    },
    {
     "name": "stdout",
     "output_type": "stream",
     "text": [
      "Found 3 moderation labels.\n"
     ]
    },
    {
     "name": "stderr",
     "output_type": "stream",
     "text": [
      "INFO: Found 5 moderation labels in resized/Suggestive/dreamstimemaximum_96835820.jpg.\n",
      "INFO: Detecting suggestive content in resized/Suggestive/houcine-ncib-XZx00G1StJl-unsplash.jpg...\n"
     ]
    },
    {
     "name": "stdout",
     "output_type": "stream",
     "text": [
      "Found 5 moderation labels.\n"
     ]
    },
    {
     "name": "stderr",
     "output_type": "stream",
     "text": [
      "INFO: Found 5 moderation labels in resized/Suggestive/houcine-ncib-XZx00G1StJl-unsplash.jpg.\n",
      "INFO: Detecting suggestive content in resized/Suggestive/houcine-ncib-XZx0OG1StJI-unsplash.jpg...\n"
     ]
    },
    {
     "name": "stdout",
     "output_type": "stream",
     "text": [
      "Found 5 moderation labels.\n"
     ]
    },
    {
     "name": "stderr",
     "output_type": "stream",
     "text": [
      "INFO: Found 5 moderation labels in resized/Suggestive/houcine-ncib-XZx0OG1StJI-unsplash.jpg.\n",
      "INFO: Detecting suggestive content in resized/Suggestive/witchkingblogs-a342dujcO74-unsplash.jpg...\n"
     ]
    },
    {
     "name": "stdout",
     "output_type": "stream",
     "text": [
      "Found 5 moderation labels.\n"
     ]
    },
    {
     "name": "stderr",
     "output_type": "stream",
     "text": [
      "INFO: Found 0 moderation labels in resized/Suggestive/witchkingblogs-a342dujcO74-unsplash.jpg.\n",
      "INFO: Detecting suggestive content in resized/WomensHealthGeneral/dreamstimemaximum_104624786.jpg...\n"
     ]
    },
    {
     "name": "stdout",
     "output_type": "stream",
     "text": [
      "Found 0 moderation labels.\n"
     ]
    },
    {
     "name": "stderr",
     "output_type": "stream",
     "text": [
      "INFO: Found 2 moderation labels in resized/WomensHealthGeneral/dreamstimemaximum_104624786.jpg.\n",
      "INFO: Detecting suggestive content in resized/WomensHealthGeneral/dreamstimemaximum_107708831.jpg...\n"
     ]
    },
    {
     "name": "stdout",
     "output_type": "stream",
     "text": [
      "Found 2 moderation labels.\n"
     ]
    },
    {
     "name": "stderr",
     "output_type": "stream",
     "text": [
      "INFO: Found 0 moderation labels in resized/WomensHealthGeneral/dreamstimemaximum_107708831.jpg.\n",
      "INFO: Detecting suggestive content in resized/WomensHealthGeneral/dreamstimemaximum_112035349(1).jpg...\n"
     ]
    },
    {
     "name": "stdout",
     "output_type": "stream",
     "text": [
      "Found 0 moderation labels.\n"
     ]
    },
    {
     "name": "stderr",
     "output_type": "stream",
     "text": [
      "INFO: Found 0 moderation labels in resized/WomensHealthGeneral/dreamstimemaximum_112035349(1).jpg.\n",
      "INFO: Detecting suggestive content in resized/WomensHealthGeneral/dreamstimemaximum_112035349.jpg...\n"
     ]
    },
    {
     "name": "stdout",
     "output_type": "stream",
     "text": [
      "Found 0 moderation labels.\n"
     ]
    },
    {
     "name": "stderr",
     "output_type": "stream",
     "text": [
      "INFO: Found 0 moderation labels in resized/WomensHealthGeneral/dreamstimemaximum_112035349.jpg.\n",
      "INFO: Detecting suggestive content in resized/WomensHealthGeneral/dreamstimemaximum_115683068.jpg...\n"
     ]
    },
    {
     "name": "stdout",
     "output_type": "stream",
     "text": [
      "Found 0 moderation labels.\n"
     ]
    },
    {
     "name": "stderr",
     "output_type": "stream",
     "text": [
      "INFO: Found 2 moderation labels in resized/WomensHealthGeneral/dreamstimemaximum_115683068.jpg.\n",
      "INFO: Detecting suggestive content in resized/WomensHealthGeneral/dreamstimemaximum_117110685.jpg...\n"
     ]
    },
    {
     "name": "stdout",
     "output_type": "stream",
     "text": [
      "Found 2 moderation labels.\n"
     ]
    },
    {
     "name": "stderr",
     "output_type": "stream",
     "text": [
      "INFO: Found 0 moderation labels in resized/WomensHealthGeneral/dreamstimemaximum_117110685.jpg.\n",
      "INFO: Detecting suggestive content in resized/WomensHealthGeneral/dreamstimemaximum_121070767.jpg...\n"
     ]
    },
    {
     "name": "stdout",
     "output_type": "stream",
     "text": [
      "Found 0 moderation labels.\n"
     ]
    },
    {
     "name": "stderr",
     "output_type": "stream",
     "text": [
      "INFO: Found 2 moderation labels in resized/WomensHealthGeneral/dreamstimemaximum_121070767.jpg.\n",
      "INFO: Detecting suggestive content in resized/WomensHealthGeneral/dreamstimemaximum_134398623.jpg...\n"
     ]
    },
    {
     "name": "stdout",
     "output_type": "stream",
     "text": [
      "Found 2 moderation labels.\n"
     ]
    },
    {
     "name": "stderr",
     "output_type": "stream",
     "text": [
      "INFO: Found 0 moderation labels in resized/WomensHealthGeneral/dreamstimemaximum_134398623.jpg.\n",
      "INFO: Detecting suggestive content in resized/WomensHealthGeneral/dreamstimemaximum_147152548.jpg...\n"
     ]
    },
    {
     "name": "stdout",
     "output_type": "stream",
     "text": [
      "Found 0 moderation labels.\n"
     ]
    },
    {
     "name": "stderr",
     "output_type": "stream",
     "text": [
      "INFO: Found 0 moderation labels in resized/WomensHealthGeneral/dreamstimemaximum_147152548.jpg.\n",
      "INFO: Detecting suggestive content in resized/WomensHealthGeneral/dreamstimemaximum_147473639.jpg...\n"
     ]
    },
    {
     "name": "stdout",
     "output_type": "stream",
     "text": [
      "Found 0 moderation labels.\n"
     ]
    },
    {
     "name": "stderr",
     "output_type": "stream",
     "text": [
      "INFO: Found 0 moderation labels in resized/WomensHealthGeneral/dreamstimemaximum_147473639.jpg.\n",
      "INFO: Detecting suggestive content in resized/WomensHealthGeneral/dreamstimemaximum_148035281.jpg...\n"
     ]
    },
    {
     "name": "stdout",
     "output_type": "stream",
     "text": [
      "Found 0 moderation labels.\n"
     ]
    },
    {
     "name": "stderr",
     "output_type": "stream",
     "text": [
      "INFO: Found 0 moderation labels in resized/WomensHealthGeneral/dreamstimemaximum_148035281.jpg.\n",
      "INFO: Detecting suggestive content in resized/WomensHealthGeneral/dreamstimemaximum_148035283.jpg...\n"
     ]
    },
    {
     "name": "stdout",
     "output_type": "stream",
     "text": [
      "Found 0 moderation labels.\n"
     ]
    },
    {
     "name": "stderr",
     "output_type": "stream",
     "text": [
      "INFO: Found 0 moderation labels in resized/WomensHealthGeneral/dreamstimemaximum_148035283.jpg.\n",
      "INFO: Detecting suggestive content in resized/WomensHealthGeneral/dreamstimemaximum_148035284.jpg...\n"
     ]
    },
    {
     "name": "stdout",
     "output_type": "stream",
     "text": [
      "Found 0 moderation labels.\n"
     ]
    },
    {
     "name": "stderr",
     "output_type": "stream",
     "text": [
      "INFO: Found 0 moderation labels in resized/WomensHealthGeneral/dreamstimemaximum_148035284.jpg.\n",
      "INFO: Detecting suggestive content in resized/WomensHealthGeneral/dreamstimemaximum_148999817.jpg...\n"
     ]
    },
    {
     "name": "stdout",
     "output_type": "stream",
     "text": [
      "Found 0 moderation labels.\n"
     ]
    },
    {
     "name": "stderr",
     "output_type": "stream",
     "text": [
      "INFO: Found 0 moderation labels in resized/WomensHealthGeneral/dreamstimemaximum_148999817.jpg.\n",
      "INFO: Detecting suggestive content in resized/WomensHealthGeneral/dreamstimemaximum_152997667.jpg...\n"
     ]
    },
    {
     "name": "stdout",
     "output_type": "stream",
     "text": [
      "Found 0 moderation labels.\n"
     ]
    },
    {
     "name": "stderr",
     "output_type": "stream",
     "text": [
      "INFO: Found 0 moderation labels in resized/WomensHealthGeneral/dreamstimemaximum_152997667.jpg.\n",
      "INFO: Detecting suggestive content in resized/WomensHealthGeneral/dreamstimemaximum_157466670.jpg...\n"
     ]
    },
    {
     "name": "stdout",
     "output_type": "stream",
     "text": [
      "Found 0 moderation labels.\n"
     ]
    },
    {
     "name": "stderr",
     "output_type": "stream",
     "text": [
      "INFO: Found 0 moderation labels in resized/WomensHealthGeneral/dreamstimemaximum_157466670.jpg.\n",
      "INFO: Detecting suggestive content in resized/WomensHealthGeneral/dreamstimemaximum_159193200.jpg...\n"
     ]
    },
    {
     "name": "stdout",
     "output_type": "stream",
     "text": [
      "Found 0 moderation labels.\n"
     ]
    },
    {
     "name": "stderr",
     "output_type": "stream",
     "text": [
      "INFO: Found 2 moderation labels in resized/WomensHealthGeneral/dreamstimemaximum_159193200.jpg.\n",
      "INFO: Detecting suggestive content in resized/WomensHealthGeneral/dreamstimemaximum_161594218.jpg...\n"
     ]
    },
    {
     "name": "stdout",
     "output_type": "stream",
     "text": [
      "Found 2 moderation labels.\n"
     ]
    },
    {
     "name": "stderr",
     "output_type": "stream",
     "text": [
      "INFO: Found 5 moderation labels in resized/WomensHealthGeneral/dreamstimemaximum_161594218.jpg.\n",
      "INFO: Detecting suggestive content in resized/WomensHealthGeneral/dreamstimemaximum_164090993.jpg...\n"
     ]
    },
    {
     "name": "stdout",
     "output_type": "stream",
     "text": [
      "Found 5 moderation labels.\n"
     ]
    },
    {
     "name": "stderr",
     "output_type": "stream",
     "text": [
      "INFO: Found 0 moderation labels in resized/WomensHealthGeneral/dreamstimemaximum_164090993.jpg.\n",
      "INFO: Detecting suggestive content in resized/WomensHealthGeneral/dreamstimemaximum_165473986.jpg...\n"
     ]
    },
    {
     "name": "stdout",
     "output_type": "stream",
     "text": [
      "Found 0 moderation labels.\n"
     ]
    },
    {
     "name": "stderr",
     "output_type": "stream",
     "text": [
      "INFO: Found 5 moderation labels in resized/WomensHealthGeneral/dreamstimemaximum_165473986.jpg.\n",
      "INFO: Detecting suggestive content in resized/WomensHealthGeneral/dreamstimemaximum_186108022.jpg...\n"
     ]
    },
    {
     "name": "stdout",
     "output_type": "stream",
     "text": [
      "Found 5 moderation labels.\n"
     ]
    },
    {
     "name": "stderr",
     "output_type": "stream",
     "text": [
      "INFO: Found 0 moderation labels in resized/WomensHealthGeneral/dreamstimemaximum_186108022.jpg.\n",
      "INFO: Detecting suggestive content in resized/WomensHealthGeneral/dreamstimemaximum_202950479.jpg...\n"
     ]
    },
    {
     "name": "stdout",
     "output_type": "stream",
     "text": [
      "Found 0 moderation labels.\n"
     ]
    },
    {
     "name": "stderr",
     "output_type": "stream",
     "text": [
      "INFO: Found 2 moderation labels in resized/WomensHealthGeneral/dreamstimemaximum_202950479.jpg.\n",
      "INFO: Detecting suggestive content in resized/WomensHealthGeneral/dreamstimemaximum_2046787.jpg...\n"
     ]
    },
    {
     "name": "stdout",
     "output_type": "stream",
     "text": [
      "Found 2 moderation labels.\n"
     ]
    },
    {
     "name": "stderr",
     "output_type": "stream",
     "text": [
      "INFO: Found 0 moderation labels in resized/WomensHealthGeneral/dreamstimemaximum_2046787.jpg.\n",
      "INFO: Detecting suggestive content in resized/WomensHealthGeneral/dreamstimemaximum_20682371.jpg...\n"
     ]
    },
    {
     "name": "stdout",
     "output_type": "stream",
     "text": [
      "Found 0 moderation labels.\n"
     ]
    },
    {
     "name": "stderr",
     "output_type": "stream",
     "text": [
      "INFO: Found 0 moderation labels in resized/WomensHealthGeneral/dreamstimemaximum_20682371.jpg.\n",
      "INFO: Detecting suggestive content in resized/WomensHealthGeneral/dreamstimemaximum_23492375.jpg...\n"
     ]
    },
    {
     "name": "stdout",
     "output_type": "stream",
     "text": [
      "Found 0 moderation labels.\n"
     ]
    },
    {
     "name": "stderr",
     "output_type": "stream",
     "text": [
      "INFO: Found 4 moderation labels in resized/WomensHealthGeneral/dreamstimemaximum_23492375.jpg.\n",
      "INFO: Detecting suggestive content in resized/WomensHealthGeneral/dreamstimemaximum_278810109.jpg...\n"
     ]
    },
    {
     "name": "stdout",
     "output_type": "stream",
     "text": [
      "Found 4 moderation labels.\n"
     ]
    },
    {
     "name": "stderr",
     "output_type": "stream",
     "text": [
      "INFO: Found 3 moderation labels in resized/WomensHealthGeneral/dreamstimemaximum_278810109.jpg.\n",
      "INFO: Detecting suggestive content in resized/WomensHealthGeneral/dreamstimemaximum_31399026.jpg...\n"
     ]
    },
    {
     "name": "stdout",
     "output_type": "stream",
     "text": [
      "Found 3 moderation labels.\n"
     ]
    },
    {
     "name": "stderr",
     "output_type": "stream",
     "text": [
      "INFO: Found 3 moderation labels in resized/WomensHealthGeneral/dreamstimemaximum_31399026.jpg.\n",
      "INFO: Detecting suggestive content in resized/WomensHealthGeneral/dreamstimemaximum_329519549.jpg...\n"
     ]
    },
    {
     "name": "stdout",
     "output_type": "stream",
     "text": [
      "Found 3 moderation labels.\n"
     ]
    },
    {
     "name": "stderr",
     "output_type": "stream",
     "text": [
      "INFO: Found 0 moderation labels in resized/WomensHealthGeneral/dreamstimemaximum_329519549.jpg.\n",
      "INFO: Detecting suggestive content in resized/WomensHealthGeneral/dreamstimemaximum_331439279.jpg...\n"
     ]
    },
    {
     "name": "stdout",
     "output_type": "stream",
     "text": [
      "Found 0 moderation labels.\n"
     ]
    },
    {
     "name": "stderr",
     "output_type": "stream",
     "text": [
      "INFO: Found 0 moderation labels in resized/WomensHealthGeneral/dreamstimemaximum_331439279.jpg.\n",
      "INFO: Detecting suggestive content in resized/WomensHealthGeneral/dreamstimemaximum_33420240.jpg...\n"
     ]
    },
    {
     "name": "stdout",
     "output_type": "stream",
     "text": [
      "Found 0 moderation labels.\n"
     ]
    },
    {
     "name": "stderr",
     "output_type": "stream",
     "text": [
      "INFO: Found 5 moderation labels in resized/WomensHealthGeneral/dreamstimemaximum_33420240.jpg.\n",
      "INFO: Detecting suggestive content in resized/WomensHealthGeneral/dreamstimemaximum_33420421.jpg...\n"
     ]
    },
    {
     "name": "stdout",
     "output_type": "stream",
     "text": [
      "Found 5 moderation labels.\n"
     ]
    },
    {
     "name": "stderr",
     "output_type": "stream",
     "text": [
      "INFO: Found 2 moderation labels in resized/WomensHealthGeneral/dreamstimemaximum_33420421.jpg.\n",
      "INFO: Detecting suggestive content in resized/WomensHealthGeneral/dreamstimemaximum_335528173.jpg...\n"
     ]
    },
    {
     "name": "stdout",
     "output_type": "stream",
     "text": [
      "Found 2 moderation labels.\n"
     ]
    },
    {
     "name": "stderr",
     "output_type": "stream",
     "text": [
      "INFO: Found 0 moderation labels in resized/WomensHealthGeneral/dreamstimemaximum_335528173.jpg.\n",
      "INFO: Detecting suggestive content in resized/WomensHealthGeneral/dreamstimemaximum_33650657.jpg...\n"
     ]
    },
    {
     "name": "stdout",
     "output_type": "stream",
     "text": [
      "Found 0 moderation labels.\n"
     ]
    },
    {
     "name": "stderr",
     "output_type": "stream",
     "text": [
      "INFO: Found 0 moderation labels in resized/WomensHealthGeneral/dreamstimemaximum_33650657.jpg.\n",
      "INFO: Detecting suggestive content in resized/WomensHealthGeneral/dreamstimemaximum_339334637.jpg...\n"
     ]
    },
    {
     "name": "stdout",
     "output_type": "stream",
     "text": [
      "Found 0 moderation labels.\n"
     ]
    },
    {
     "name": "stderr",
     "output_type": "stream",
     "text": [
      "INFO: Found 2 moderation labels in resized/WomensHealthGeneral/dreamstimemaximum_339334637.jpg.\n",
      "INFO: Detecting suggestive content in resized/WomensHealthGeneral/dreamstimemaximum_340831720.jpg...\n"
     ]
    },
    {
     "name": "stdout",
     "output_type": "stream",
     "text": [
      "Found 2 moderation labels.\n"
     ]
    },
    {
     "name": "stderr",
     "output_type": "stream",
     "text": [
      "INFO: Found 2 moderation labels in resized/WomensHealthGeneral/dreamstimemaximum_340831720.jpg.\n",
      "INFO: Detecting suggestive content in resized/WomensHealthGeneral/dreamstimemaximum_34424730.jpg...\n"
     ]
    },
    {
     "name": "stdout",
     "output_type": "stream",
     "text": [
      "Found 2 moderation labels.\n"
     ]
    },
    {
     "name": "stderr",
     "output_type": "stream",
     "text": [
      "INFO: Found 5 moderation labels in resized/WomensHealthGeneral/dreamstimemaximum_34424730.jpg.\n",
      "INFO: Detecting suggestive content in resized/WomensHealthGeneral/dreamstimemaximum_44603509.jpg...\n"
     ]
    },
    {
     "name": "stdout",
     "output_type": "stream",
     "text": [
      "Found 5 moderation labels.\n"
     ]
    },
    {
     "name": "stderr",
     "output_type": "stream",
     "text": [
      "INFO: Found 0 moderation labels in resized/WomensHealthGeneral/dreamstimemaximum_44603509.jpg.\n",
      "INFO: Detecting suggestive content in resized/WomensHealthGeneral/dreamstimemaximum_49421817.jpg...\n"
     ]
    },
    {
     "name": "stdout",
     "output_type": "stream",
     "text": [
      "Found 0 moderation labels.\n"
     ]
    },
    {
     "name": "stderr",
     "output_type": "stream",
     "text": [
      "INFO: Found 0 moderation labels in resized/WomensHealthGeneral/dreamstimemaximum_49421817.jpg.\n",
      "INFO: Detecting suggestive content in resized/WomensHealthGeneral/dreamstimemaximum_53153107.jpg...\n"
     ]
    },
    {
     "name": "stdout",
     "output_type": "stream",
     "text": [
      "Found 0 moderation labels.\n"
     ]
    },
    {
     "name": "stderr",
     "output_type": "stream",
     "text": [
      "INFO: Found 2 moderation labels in resized/WomensHealthGeneral/dreamstimemaximum_53153107.jpg.\n",
      "INFO: Detecting suggestive content in resized/WomensHealthGeneral/dreamstimemaximum_60190897.jpg...\n"
     ]
    },
    {
     "name": "stdout",
     "output_type": "stream",
     "text": [
      "Found 2 moderation labels.\n"
     ]
    },
    {
     "name": "stderr",
     "output_type": "stream",
     "text": [
      "INFO: Found 5 moderation labels in resized/WomensHealthGeneral/dreamstimemaximum_60190897.jpg.\n",
      "INFO: Detecting suggestive content in resized/WomensHealthGeneral/dreamstimemaximum_65002178.jpg...\n"
     ]
    },
    {
     "name": "stdout",
     "output_type": "stream",
     "text": [
      "Found 5 moderation labels.\n"
     ]
    },
    {
     "name": "stderr",
     "output_type": "stream",
     "text": [
      "INFO: Found 0 moderation labels in resized/WomensHealthGeneral/dreamstimemaximum_65002178.jpg.\n",
      "INFO: Detecting suggestive content in resized/WomensHealthGeneral/dreamstimemaximum_65002226.jpg...\n"
     ]
    },
    {
     "name": "stdout",
     "output_type": "stream",
     "text": [
      "Found 0 moderation labels.\n"
     ]
    },
    {
     "name": "stderr",
     "output_type": "stream",
     "text": [
      "INFO: Found 0 moderation labels in resized/WomensHealthGeneral/dreamstimemaximum_65002226.jpg.\n",
      "INFO: Detecting suggestive content in resized/WomensHealthGeneral/dreamstimemaximum_66171633.jpg...\n"
     ]
    },
    {
     "name": "stdout",
     "output_type": "stream",
     "text": [
      "Found 0 moderation labels.\n"
     ]
    },
    {
     "name": "stderr",
     "output_type": "stream",
     "text": [
      "INFO: Found 0 moderation labels in resized/WomensHealthGeneral/dreamstimemaximum_66171633.jpg.\n",
      "INFO: Detecting suggestive content in resized/WomensHealthGeneral/dreamstimemaximum_91040422.jpg...\n"
     ]
    },
    {
     "name": "stdout",
     "output_type": "stream",
     "text": [
      "Found 0 moderation labels.\n"
     ]
    },
    {
     "name": "stderr",
     "output_type": "stream",
     "text": [
      "INFO: Found 0 moderation labels in resized/WomensHealthGeneral/dreamstimemaximum_91040422.jpg.\n",
      "INFO: Detecting suggestive content in resized/WomensHealthGeneral/dreamstimemaximum_94306461.jpg...\n"
     ]
    },
    {
     "name": "stdout",
     "output_type": "stream",
     "text": [
      "Found 0 moderation labels.\n"
     ]
    },
    {
     "name": "stderr",
     "output_type": "stream",
     "text": [
      "INFO: Found 0 moderation labels in resized/WomensHealthGeneral/dreamstimemaximum_94306461.jpg.\n",
      "INFO: Detecting suggestive content in resized/WomensHealthGeneral/dreamstimemaximum_97457121.jpg...\n"
     ]
    },
    {
     "name": "stdout",
     "output_type": "stream",
     "text": [
      "Found 0 moderation labels.\n"
     ]
    },
    {
     "name": "stderr",
     "output_type": "stream",
     "text": [
      "INFO: Found 5 moderation labels in resized/WomensHealthGeneral/dreamstimemaximum_97457121.jpg.\n",
      "INFO: Detecting suggestive content in resized/WomensHealthGeneral/dreamstimemaximum_97457127.jpg...\n"
     ]
    },
    {
     "name": "stdout",
     "output_type": "stream",
     "text": [
      "Found 5 moderation labels.\n"
     ]
    },
    {
     "name": "stderr",
     "output_type": "stream",
     "text": [
      "INFO: Found 2 moderation labels in resized/WomensHealthGeneral/dreamstimemaximum_97457127.jpg.\n",
      "INFO: Detecting suggestive content in resized/WomensHealthGeneral/dreamstimemaximum_97457146(1).jpg...\n"
     ]
    },
    {
     "name": "stdout",
     "output_type": "stream",
     "text": [
      "Found 2 moderation labels.\n"
     ]
    },
    {
     "name": "stderr",
     "output_type": "stream",
     "text": [
      "INFO: Found 5 moderation labels in resized/WomensHealthGeneral/dreamstimemaximum_97457146(1).jpg.\n",
      "INFO: Detecting suggestive content in resized/WomensHealthGeneral/dreamstimemaximum_97457146.jpg...\n"
     ]
    },
    {
     "name": "stdout",
     "output_type": "stream",
     "text": [
      "Found 5 moderation labels.\n"
     ]
    },
    {
     "name": "stderr",
     "output_type": "stream",
     "text": [
      "INFO: Found 5 moderation labels in resized/WomensHealthGeneral/dreamstimemaximum_97457146.jpg.\n"
     ]
    },
    {
     "name": "stdout",
     "output_type": "stream",
     "text": [
      "Found 5 moderation labels.\n"
     ]
    }
   ],
   "source": [
    "bucket_name = \"reliabl-image-labeling-demo\"\n",
    "\n",
    "logging.basicConfig(level=logging.INFO, format=\"%(levelname)s: %(message)s\")\n",
    "rekognition_client = boto3.client(\"rekognition\")\n",
    "\n",
    "i = 0\n",
    "\n",
    "image_names = []\n",
    "image_labels = []\n",
    "errors = []\n",
    "for o in boto3.resource(\"s3\").Bucket(bucket_name).objects.all():\n",
    "    image = RekognitionImage.from_bucket(o, rekognition_client)    \n",
    "    if o.key.startswith(\"resized/\"):\n",
    "        image_names.append(o.key)\n",
    "        try:\n",
    "            logging.info(f\"Detecting suggestive content in {o.key}...\")\n",
    "            labels = image.detect_moderation_labels()\n",
    "            print(f\"Found {len(labels)} moderation labels.\")\n",
    "            # for label in labels:\n",
    "            #     pprint.pprint(label.to_dict())\n",
    "\n",
    "            image_labels.append(labels)\n",
    "            errors.append(None)\n",
    "        except Exception as e:\n",
    "            logging.info(f\"error for image {o.key}: {e}\")\n",
    "            image_labels.append(None)\n",
    "            errors.append(e)"
   ]
  },
  {
   "cell_type": "code",
   "execution_count": 11,
   "metadata": {},
   "outputs": [
    {
     "name": "stdout",
     "output_type": "stream",
     "text": [
      "labeled 304 and found 579 labels\n"
     ]
    }
   ],
   "source": [
    "print(f\"labeled {len(image_names)} and found {sum([len(i) for i in image_labels if i is not None])} labels\")"
   ]
  },
  {
   "cell_type": "code",
   "execution_count": null,
   "metadata": {},
   "outputs": [],
   "source": [
    "# write all labels to a local file\n",
    "import os\n",
    "import json\n",
    "\n",
    "label_filename = \"./labeling_results/moderation_labels.tsv\"\n",
    "\n",
    "assert not os.path.exists(label_filename), \"label file exists! we don't want to overwrite it.\"\n",
    "assert len(image_names) == len(image_labels)\n",
    "assert len(image_names) == len(errors)\n",
    "\n",
    "with open(label_filename, 'w') as f:\n",
    "    for i, l, e in zip(image_names, image_labels, errors):\n",
    "\n",
    "        x = {\n",
    "            \"image_name\": i,\n",
    "            \"labels\": [] if l is None else [li.to_dict() for li in l],\n",
    "            \"error\": str(e),\n",
    "        }\n",
    "        label_list = [] if l is None else [li.to_dict() for li in l]\n",
    "        f.write(f'{i}\\t\"{json.dumps(label_list)}\"\\t\"{e}\"\\n')"
   ]
  }
 ],
 "metadata": {
  "kernelspec": {
   "display_name": ".venv",
   "language": "python",
   "name": "python3"
  },
  "language_info": {
   "codemirror_mode": {
    "name": "ipython",
    "version": 3
   },
   "file_extension": ".py",
   "mimetype": "text/x-python",
   "name": "python",
   "nbconvert_exporter": "python",
   "pygments_lexer": "ipython3",
   "version": "3.11.11"
  }
 },
 "nbformat": 4,
 "nbformat_minor": 2
}
